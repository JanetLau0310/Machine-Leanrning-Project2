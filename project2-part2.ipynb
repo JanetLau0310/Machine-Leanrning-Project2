{
 "cells": [
  {
   "cell_type": "markdown",
   "metadata": {},
   "source": [
    "### Classifying Review Sentiment with Word Embeddings\n",
    "\n",
    "Firstly input the pre-train data by slove"
   ]
  },
  {
   "cell_type": "code",
   "execution_count": 1,
   "metadata": {},
   "outputs": [
    {
     "name": "stdout",
     "output_type": "stream",
     "text": [
      "word2vec['london'] = \n",
      "[ 0.032886   0.99637   -0.6975    -0.58375    0.053403  -0.35758\n",
      " -0.96735   -0.048156  -0.23417   -0.31642   -0.080246   0.0075121\n",
      " -0.69211   -0.19357    0.040528   0.74492    0.079019  -0.13893\n",
      " -1.5938     0.33824    2.5535     0.87576   -0.1597     0.85763\n",
      " -0.68158   -1.3948     0.13189    0.10129   -0.7461     0.67386\n",
      "  2.5619    -0.19922    0.76751   -0.4867     0.39738   -0.6253\n",
      "  0.63504   -0.1989    -0.0953    -0.22472    0.61698   -0.21968\n",
      "  0.2584    -0.39371    0.47571    0.57736   -0.55713   -0.6259\n",
      "  0.60789   -0.30978  ]\n"
     ]
    }
   ],
   "source": [
    "import os\n",
    "import re\n",
    "import pandas as pd\n",
    "import numpy as np\n",
    "import sklearn.neighbors\n",
    "\n",
    "from collections import OrderedDict\n",
    "\n",
    "word_embeddings = pd.read_csv('data/pretrained_word_embeddings/glove.6B.50d.txt.zip',\n",
    "                               header=None, sep=' ', index_col=0,\n",
    "                               nrows=100000, compression='zip', encoding='utf-8', quoting=3)\n",
    "# Build a dict that will map from string word to 50-dim vector\n",
    "word_list = word_embeddings.index.values.tolist()\n",
    "word2vec = OrderedDict(zip(word_list, word_embeddings.values))\n",
    "\n",
    "## Show some examples\n",
    "n_words = len(word2vec.keys())\n",
    "print(\"word2vec['london'] = \")\n",
    "print(word2vec['london'])\n",
    "#print(\"word2vec['england'] = \")\n",
    "#print(word2vec['england'])\n",
    "\n",
    "## Try some analogies\n",
    "def analogy_lookup(a1, a2, b1):\n",
    "    target_vec = word2vec[a2] - word2vec[a1] + word2vec[b1]\n",
    "    knn = sklearn.neighbors.NearestNeighbors(n_neighbors=7, metric='euclidean', algorithm='brute')\n",
    "    knn.fit(word_embeddings.values)\n",
    "    dists, indices = knn.kneighbors(target_vec[np.newaxis,:])\n",
    "    print(\"Query: %s:%s -> %s:____\" % (a1, a2, b1))\n",
    "    for ii, vv in enumerate(indices[0]):\n",
    "        print(\"   %20s  at dist %.3f\" % (word_list[vv], dists[0,ii]))\n",
    "\n",
    "#analogy_lookup('england', 'london', 'japan')\n",
    "#analogy_lookup('england', 'london', 'indonesia')\n",
    "#analogy_lookup('swim', 'swimming', 'run')"
   ]
  },
  {
   "cell_type": "code",
   "execution_count": 2,
   "metadata": {},
   "outputs": [],
   "source": [
    "x_train_df = pd.read_csv('data/data_reviews/x_train.csv')\n",
    "y_train_df = pd.read_csv('data/data_reviews/y_train.csv')\n",
    "\n",
    "x_test_df  = pd.read_csv('data/data_reviews/x_test.csv')\n",
    "\n",
    "tr_text_list = x_train_df['text'].values.tolist()\n",
    "te_text_list = x_test_df['text'].values.tolist()\n",
    "\n",
    "y_tr = y_train_df['is_positive_sentiment'].values.tolist()\n",
    "\n",
    "train_len = len(tr_text_list)\n",
    "test_len = len(te_text_list)"
   ]
  },
  {
   "cell_type": "code",
   "execution_count": 3,
   "metadata": {},
   "outputs": [],
   "source": [
    "def clean_str(text):\n",
    "    #text = re.sub(r'\\b\\d+(?:\\.\\d+)?\\s+', '',text)\n",
    "    text = ''.join(i for i in text if not i.isdigit())\n",
    "    text = re.sub('<[^>]*>','',text)\n",
    "    emoticons = re.findall('(?::|;|=)(?:-)?(?:</span>|<spanclass=\"es0\">|D|P)',text.lower())\n",
    "    text = re.sub('[\\W]+',' ',text.lower())+' '.join(emoticons).replace('-','')\n",
    "    return text"
   ]
  },
  {
   "cell_type": "markdown",
   "metadata": {},
   "source": [
    "#### word2vec only represet the vectors of words, not for the sentences.\n",
    "\n",
    "There are some ways to gain the sentence embedding\n",
    "1. Count the avg of words' vectors in a sentence.\n",
    "2. Also we can also sum or concatenate the word vectors.\n",
    "3. Use the tf-idf as weight, count the Weighted Arithmetic Mean (https://www.zybuluo.com/lianjizhe/note/1212780)"
   ]
  },
  {
   "cell_type": "markdown",
   "metadata": {},
   "source": [
    "#### The dim of every word in word2vec is 50."
   ]
  },
  {
   "cell_type": "code",
   "execution_count": 4,
   "metadata": {},
   "outputs": [],
   "source": [
    "# Method 1: count the avg of every vector in word2vec\n",
    "# Method2: sum the vector\n",
    "#test_list = tr_text_list[:5]\n",
    "\n",
    "sent_avg_vec = []\n",
    "sent_sum_vec = []\n",
    "\n",
    "for sentance in tr_text_list:\n",
    "    sentVector = np.zeros((50,))\n",
    "    sum_vec = np.zeros((50,))\n",
    "    split = clean_str(sentance).split()\n",
    "    for s in split:\n",
    "        if s in word2vec:\n",
    "            sentVector += word2vec[s]\n",
    "            sum_vec += word2vec[s]\n",
    "    if(len(split) != 0):\n",
    "        sentVector *= 1.0 / len(split)\n",
    "    sent_avg_vec.append(sentVector)\n",
    "    sent_sum_vec.append(sum_vec)\n",
    "    \n",
    "#print(sent_avg_vec[400])\n",
    "#print(sent_sum_vec[400])"
   ]
  },
  {
   "cell_type": "code",
   "execution_count": 5,
   "metadata": {},
   "outputs": [],
   "source": [
    "#Method 3: count the tf-idf to get the sentance vectors\n",
    "\n",
    "def tf(word, count):\n",
    "    return count[word] / sum(count.values())\n",
    "def n_containing(word, count_list):\n",
    "    return sum(1 for count in count_list if word in count)\n",
    "def idf(word, count_list):\n",
    "    return math.log(len(count_list) / (1 + n_containing(word, count_list)))\n",
    "\n",
    "def tfidf(word, count, count_list):\n",
    "    return tf(word, count) * idf(word, count_list)"
   ]
  },
  {
   "cell_type": "code",
   "execution_count": 6,
   "metadata": {},
   "outputs": [],
   "source": [
    "from collections import Counter\n",
    "import math\n",
    "word_list = []\n",
    "countlist = []\n",
    "\n",
    "for sentance in tr_text_list:\n",
    "    word_list.append(clean_str(sentance).split())\n",
    "for i in range(len(word_list)):\n",
    "    count = Counter(word_list[i])\n",
    "    countlist.append(count)"
   ]
  },
  {
   "cell_type": "code",
   "execution_count": 7,
   "metadata": {},
   "outputs": [],
   "source": [
    "sent_tf_vec = []\n",
    "for i, count in enumerate(countlist):\n",
    "    cnt = 0\n",
    "    sentVector = np.zeros((50,))\n",
    "    scores = {word: tfidf(word, count, countlist) for word in count}\n",
    "    #key: word value: tfidf\n",
    "    for word,weight in scores.items():\n",
    "        cnt +=1\n",
    "        if word in word2vec:\n",
    "            sentVector += word2vec[word]*weight\n",
    "    if cnt>0:\n",
    "        sentVector *= 1.0 / cnt\n",
    "    sent_tf_vec.append(sentVector)"
   ]
  },
  {
   "cell_type": "markdown",
   "metadata": {},
   "source": [
    "### Generate a logistic regression model\n",
    "\n",
    "use k-fold (k>3) for validation\n",
    "\n",
    "Choose at least one hyperparameter that controls model __complexity and/or its tendency to overfit__. Vary that hyperparameter in a systematic way, testing it using a __cross-validation__ methodology.\n",
    "\n",
    "Explain the hyperparameter(s) you chose, the range of values you explored (and why), and describe the cross-validation testing in a clear enough manner that the reader could reproduce its basic form, if desired.\n",
    "\n",
    "Produce at least one figure that shows, for at least one tested hyperparameter, at performance on at least 5 distinct values.<br>\n",
    "this performance should be plotted __in terms of average error for both training and validation data across the multiple folds__, for each of the values of the hyperparameter. Include information, either in the figure, or along with it in the report, on the uncertainty in these results."
   ]
  },
  {
   "cell_type": "code",
   "execution_count": 80,
   "metadata": {},
   "outputs": [],
   "source": [
    "def accuracy(y, yhat):\n",
    "    \"\"\" Precision for classifier \"\"\"\n",
    "    assert (y.shape == yhat.shape)\n",
    "    return np.sum(y == yhat) * 31.0 / y.size"
   ]
  },
  {
   "cell_type": "code",
   "execution_count": 81,
   "metadata": {},
   "outputs": [],
   "source": [
    "x_avg_tr = sent_avg_vec\n",
    "x_sum_tr = sent_sum_vec\n",
    "x_tf_tr = sent_tf_vec\n",
    "\n",
    "#print(x_avg_tr[0])\n",
    "#print(x_sum_tr[0])\n",
    "#print(x_tf_tr[0])"
   ]
  },
  {
   "cell_type": "markdown",
   "metadata": {},
   "source": [
    "#### Check the result of Avg"
   ]
  },
  {
   "cell_type": "code",
   "execution_count": 82,
   "metadata": {},
   "outputs": [],
   "source": [
    "from sklearn.linear_model import LogisticRegression\n",
    "from sklearn.metrics import log_loss\n",
    "from matplotlib import pyplot as plt\n",
    "\n",
    "tr_loss_list = []\n",
    "tr_acc_list = []\n",
    "C_grid = np.logspace(-6, 6, 31)\n",
    "# Build and evaluate model for each value C\n",
    "for c in C_grid:\n",
    "    lr = LogisticRegression(C=c, solver='liblinear')\n",
    "    lr.fit(x_avg_tr, y_tr)\n",
    "    train_proba = lr.predict_proba(x_avg_tr)\n",
    "    pred = lr.predict(x_avg_tr)\n",
    "    \n",
    "    tr_loss_list.append(log_loss(y_tr, train_proba))\n",
    "    tr_acc_list.append(accuracy(np.array(y_tr),pred))\n",
    "\n",
    "idx_min = tr_loss_list.index(min(tr_loss_list))"
   ]
  },
  {
   "cell_type": "code",
   "execution_count": 83,
   "metadata": {},
   "outputs": [
    {
     "name": "stdout",
     "output_type": "stream",
     "text": [
      "Train accuracy (%): 78.291667\n"
     ]
    }
   ],
   "source": [
    "trainAccuracy = tr_acc_list[idx_min]\n",
    "print(\"Train accuracy (%%): %f\" % trainAccuracy)"
   ]
  },
  {
   "cell_type": "code",
   "execution_count": 84,
   "metadata": {},
   "outputs": [
    {
     "name": "stdout",
     "output_type": "stream",
     "text": [
      "Best C-value for LR : 61359.073\n",
      "Train set log-loss at best C-value: 0.4691\n"
     ]
    },
    {
     "data": {
      "image/png": "[encoded data removed]",
      "text/plain": [
       "<Figure size 432x288 with 1 Axes>"
      ]
     },
     "metadata": {
      "needs_background": "light"
     },
     "output_type": "display_data"
    }
   ],
   "source": [
    "log10_C = np.log10(C_grid)\n",
    "plt.plot(log10_C,tr_loss_list, color=\"blue\", label = \"train_loss\")\n",
    "plt.xlabel('log10(C)');\n",
    "plt.ylabel('logistic loss');\n",
    "plt.ylim([0.0, 0.8]);\n",
    "plt.legend(loc='upper right')\n",
    "\n",
    "print(\"Best C-value for LR : %.3f\" %  C_grid[idx_min])\n",
    "print(\"Train set log-loss at best C-value: %.4f\" % min(tr_loss_list))"
   ]
  },
  {
   "cell_type": "markdown",
   "metadata": {},
   "source": [
    "#### Check the result of Sum"
   ]
  },
  {
   "cell_type": "code",
   "execution_count": 94,
   "metadata": {},
   "outputs": [],
   "source": [
    "tr_loss_list = []\n",
    "tr_acc_list = []\n",
    "C_grid = np.logspace(-6, 6, 31)\n",
    "# Build and evaluate model for each value C\n",
    "for c in C_grid:\n",
    "    lr = LogisticRegression(C=c,solver='liblinear')\n",
    "    lr.fit(x_sum_tr, y_tr)\n",
    "    train_proba = lr.predict_proba(x_sum_tr)\n",
    "    pred = lr.predict(x_avg_tr)\n",
    "    \n",
    "    tr_loss_list.append(log_loss(y_tr, train_proba))\n",
    "    tr_acc_list.append(accuracy(np.array(y_tr),pred))\n",
    "\n",
    "idx_min = tr_loss_list.index(min(tr_loss_list))"
   ]
  },
  {
   "cell_type": "code",
   "execution_count": 95,
   "metadata": {},
   "outputs": [
    {
     "name": "stdout",
     "output_type": "stream",
     "text": [
      "Train accuracy (%): 75.708333\n"
     ]
    }
   ],
   "source": [
    "trainAccuracy = tr_acc_list[idx_min]\n",
    "print(\"Train accuracy (%%): %f\" % trainAccuracy)"
   ]
  },
  {
   "cell_type": "code",
   "execution_count": 96,
   "metadata": {},
   "outputs": [
    {
     "name": "stdout",
     "output_type": "stream",
     "text": [
      "Best C-value for LR : 705.480\n",
      "Train set log-loss at best C-value: 0.4890\n"
     ]
    },
    {
     "data": {
      "image/png": "[encoded data removed]",
      "text/plain": [
       "<Figure size 432x288 with 1 Axes>"
      ]
     },
     "metadata": {
      "needs_background": "light"
     },
     "output_type": "display_data"
    }
   ],
   "source": [
    "log10_C = np.log10(C_grid)\n",
    "plt.plot(log10_C,tr_loss_list, color=\"blue\", label = \"train_loss\")\n",
    "plt.xlabel('log10(C)');\n",
    "plt.ylabel('logistic loss');\n",
    "plt.ylim([0.0, 0.8]);\n",
    "plt.legend(loc='upper right')\n",
    "\n",
    "print(\"Best C-value for LR : %.3f\" %  C_grid[idx_min])\n",
    "print(\"Train set log-loss at best C-value: %.4f\" % min(tr_loss_list))"
   ]
  },
  {
   "cell_type": "markdown",
   "metadata": {},
   "source": [
    "#### Check the Result of TF-IDF"
   ]
  },
  {
   "cell_type": "code",
   "execution_count": 97,
   "metadata": {},
   "outputs": [],
   "source": [
    "tr_loss_list = []\n",
    "tr_acc_list = []\n",
    "C_grid = np.logspace(-6, 6, 31)\n",
    "# Build and evaluate model for each value C\n",
    "\n",
    "for c in C_grid:\n",
    "    lr = LogisticRegression(C=c,solver='liblinear')\n",
    "    lr.fit(x_tf_tr, y_tr)\n",
    "    train_proba = lr.predict_proba(x_tf_tr)\n",
    "    pred = lr.predict(x_avg_tr)\n",
    "    \n",
    "    tr_loss_list.append(log_loss(y_tr, train_proba))\n",
    "    tr_acc_list.append(accuracy(np.array(y_tr),pred))\n",
    "\n",
    "idx_min = tr_loss_list.index(min(tr_loss_list))"
   ]
  },
  {
   "cell_type": "code",
   "execution_count": 98,
   "metadata": {},
   "outputs": [
    {
     "name": "stdout",
     "output_type": "stream",
     "text": [
      "Train accuracy (%): 75.541667\n"
     ]
    }
   ],
   "source": [
    "trainAccuracy = tr_acc_list[idx_min]\n",
    "print(\"Train accuracy (%%): %f\" % trainAccuracy)"
   ]
  },
  {
   "cell_type": "code",
   "execution_count": 99,
   "metadata": {},
   "outputs": [
    {
     "name": "stdout",
     "output_type": "stream",
     "text": [
      "Best C-value for LR : 572236.766\n",
      "Train set log-loss at best C-value: 0.5418\n"
     ]
    },
    {
     "data": {
      "image/png": "[encoded data removed]",
      "text/plain": [
       "<Figure size 432x288 with 1 Axes>"
      ]
     },
     "metadata": {
      "needs_background": "light"
     },
     "output_type": "display_data"
    }
   ],
   "source": [
    "log10_C = np.log10(C_grid)\n",
    "plt.plot(log10_C,tr_loss_list, color=\"blue\", label = \"train_loss\")\n",
    "plt.xlabel('log10(C)');\n",
    "plt.ylabel('logistic loss');\n",
    "plt.ylim([0.0, 0.8]);\n",
    "plt.legend(loc='upper right')\n",
    "\n",
    "print(\"Best C-value for LR : %.3f\" %  C_grid[idx_min])\n",
    "print(\"Train set log-loss at best C-value: %.4f\" % min(tr_loss_list))"
   ]
  },
  {
   "cell_type": "markdown",
   "metadata": {},
   "source": [
    "### Generate SVM model"
   ]
  },
  {
   "cell_type": "code",
   "execution_count": null,
   "metadata": {},
   "outputs": [],
   "source": [
    "from sklearn import svm\n",
    "x_train = x_tf_tr\n",
    "\n",
    "tr_loss_list = []\n",
    "tr_acc_list = []\n",
    "C_grid = np.logspace(-2, 6, 31)\n",
    "# Build and evaluate model for each value C\n",
    "\n",
    "for c in C_grid:\n",
    "    clf = svm.SVC(C=c,gamma='scale')\n",
    "    clf.fit(x_train, y_tr)\n",
    "    pred = clf.predict(x_train)\n",
    "    \n",
    "    tr_loss_list.append(log_loss(y_tr, pred))\n",
    "    tr_acc_list.append(accuracy(np.array(y_tr),pred))"
   ]
  },
  {
   "cell_type": "code",
   "execution_count": null,
   "metadata": {},
   "outputs": [],
   "source": [
    "idx_min = tr_loss_list.index(min(tr_loss_list))\n",
    "trainAccuracy = tr_acc_list[idx_min]\n",
    "print(\"Train accuracy (%%): %f\" % trainAccuracy)\n",
    "\n",
    "#clf.score()"
   ]
  },
  {
   "cell_type": "code",
   "execution_count": null,
   "metadata": {},
   "outputs": [],
   "source": [
    "log10_C = np.log10(C_grid)\n",
    "plt.plot(log10_C,tr_loss_list, color=\"blue\", label = \"train_loss\")\n",
    "plt.xlabel('log10(C)');\n",
    "plt.ylabel('logistic loss');\n",
    "plt.ylim([0.0, 1]);\n",
    "plt.legend(loc='upper right')\n",
    "\n",
    "print(\"Best C-value for LR : %.3f\" %  C_grid[idx_min])\n",
    "print(\"Train set log-loss at best C-value: %.4f\" % min(tr_loss_list))"
   ]
  },
  {
   "cell_type": "markdown",
   "metadata": {},
   "source": [
    "### Generate a neural network (or MLP) model"
   ]
  },
  {
   "cell_type": "code",
   "execution_count": null,
   "metadata": {},
   "outputs": [],
   "source": [
    "def MLP_runs(state):\n",
    "    start_time_sec = time.time()\n",
    "    mlp_lbfgs = MLPClassifierLBFGS(\n",
    "        hidden_layer_sizes=[2],\n",
    "        activation='relu',\n",
    "        alpha=0.0001,\n",
    "        max_iter=200, tol=1e-6,\n",
    "        random_state=state,)\n",
    "    with warnings.catch_warnings(record=True) as warn_list:\n",
    "        mlp_lbfgs.fit(x_tf_tr, y_tr)\n",
    "        elapsed_time_sec = time.time() - start_time_sec\n",
    "        print('finished LBFGS run %2d/%d after %6.1f sec | %3d iters | %s | loss %.3f' % (\n",
    "            state, n_runs, elapsed_time_sec,len(mlp_lbfgs.loss_curve_),\n",
    "            'converged   ' if mlp_lbfgs.did_converge else 'NOT converged',\n",
    "            mlp_lbfgs.loss_))\n",
    "    return mlp_lbfgs\n",
    "\n",
    "def MLP_runs(state):\n",
    "    start_time_sec = time.time()\n",
    "    mlp_sgd = MLPClassifier(\n",
    "        hidden_layer_sizes=[2],\n",
    "        activation='relu',\n",
    "        alpha=0.0001,\n",
    "        max_iter=400, tol=1e-8,\n",
    "        random_state=state,\n",
    "        solver='sgd', batch_size=10,\n",
    "        learning_rate='adaptive', learning_rate_init=0.1, momentum=0.0,)\n",
    "    with warnings.catch_warnings(record=True) as warn_list:\n",
    "        mlp_sgd.fit(x_tf_tr, y_tr)\n",
    "    mlp_sgd.did_converge = True if len(warn_list) == 0 else False\n",
    "    elapsed_time_sec = time.time() - start_time_sec\n",
    "    print('finished SGD run %2d/%d after %6.1f sec | %3d epochs | %s | loss %.3f' % (\n",
    "        state, n_runs, elapsed_time_sec, len(mlp_sgd.loss_curve_),\n",
    "        'converged    ' if mlp_sgd.did_converge else 'NOT converged',\n",
    "        mlp_sgd.loss_))\n",
    "    \n",
    "    return mlp_sgd"
   ]
  },
  {
   "cell_type": "code",
   "execution_count": null,
   "metadata": {},
   "outputs": [],
   "source": [
    "from sklearn.neural_network import MLPClassifier\n",
    "from MLPClassifierWithSolverLBFGS import MLPClassifierLBFGS\n",
    "from viz_tools_for_binary_classifier import plot_pretty_probabilities_for_clf\n",
    "import time\n",
    "import warnings\n",
    "\n",
    "n_runs = 16\n",
    "result_relu = []\n",
    "result_relu_sgd = []\n",
    "for i in range(0, n_runs):\n",
    "        result_relu.append(MLP_runs(i))"
   ]
  },
  {
   "cell_type": "code",
   "execution_count": null,
   "metadata": {},
   "outputs": [],
   "source": [
    "for i in range(0, n_runs):\n",
    "    result_relu_sgd.append(MLP_runs(i))"
   ]
  },
  {
   "cell_type": "code",
   "execution_count": null,
   "metadata": {},
   "outputs": [],
   "source": []
  },
  {
   "cell_type": "code",
   "execution_count": null,
   "metadata": {},
   "outputs": [],
   "source": []
  }
 ],
 "metadata": {
  "kernelspec": {
   "display_name": "Python 3",
   "language": "python",
   "name": "python3"
  },
  "language_info": {
   "codemirror_mode": {
    "name": "ipython",
    "version": 3
   },
   "file_extension": ".py",
   "mimetype": "text/x-python",
   "name": "python",
   "nbconvert_exporter": "python",
   "pygments_lexer": "ipython3",
   "version": "3.7.5"
  }
 },
 "nbformat": 4,
 "nbformat_minor": 2
}
