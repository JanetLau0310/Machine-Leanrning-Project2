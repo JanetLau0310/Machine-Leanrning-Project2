{
 "cells": [
  {
   "cell_type": "code",
   "execution_count": 153,
   "metadata": {},
   "outputs": [],
   "source": [
    "import os\n",
    "import re\n",
    "import numpy as np\n",
    "import pandas as pd\n",
    "import time\n",
    "import warnings\n",
    "\n",
    "from sklearn.neural_network import MLPClassifier\n",
    "\n",
    "from matplotlib import pyplot as plt\n",
    "import seaborn as sns\n",
    "\n",
    "from MLPClassifierWithSolverLBFGS import MLPClassifierLBFGS\n",
    "\n",
    "from viz_tools_for_binary_classifier import plot_pretty_probabilities_for_clf\n",
    "\n",
    "import sklearn.linear_model\n",
    "import sklearn.tree\n",
    "import sklearn.metrics\n",
    "\n",
    "%matplotlib inline\n",
    "plt.style.use('seaborn') # pretty matplotlib plots"
   ]
  },
  {
   "cell_type": "code",
   "execution_count": 154,
   "metadata": {},
   "outputs": [],
   "source": [
    "x_train_df = pd.read_csv('data/data_reviews/x_train.csv')\n",
    "y_train_df = pd.read_csv('data/data_reviews/y_train.csv')\n",
    "\n",
    "x_test_df  = pd.read_csv('data/data_reviews/x_test.csv')\n",
    "\n",
    "tr_text_list = x_train_df['text'].values.tolist()\n",
    "te_text_list = x_test_df['text'].values.tolist()\n",
    "\n",
    "y_tr = y_train_df['is_positive_sentiment'].values.tolist()\n",
    "\n",
    "train_len = len(tr_text_list)\n",
    "test_len = len(te_text_list)\n",
    "\n",
    "#for text in tr_text_list:\n",
    "#    print(text)"
   ]
  },
  {
   "cell_type": "code",
   "execution_count": 155,
   "metadata": {},
   "outputs": [],
   "source": [
    "from sklearn.feature_extraction.text import CountVectorizer\n",
    "vectorizer = CountVectorizer()\n",
    "corpus = tr_text_list\n",
    "X = vectorizer.fit_transform(corpus)\n",
    "vocal = vectorizer.vocabulary_"
   ]
  },
  {
   "cell_type": "code",
   "execution_count": 156,
   "metadata": {},
   "outputs": [],
   "source": [
    "from nltk.corpus import stopwords\n",
    "stop=stopwords.words('english')\n",
    "def tokenizer(text):\n",
    "    text = ''.join(i for i in text if not i.isdigit())\n",
    "    text = re.sub('<[^>]*>','',text)\n",
    "    emoticons = re.findall('(?::|;|=)(?:-)?(?:</span>|<spanclass=\"es0\">|D|P)',text.lower())\n",
    "    text=re.sub('[\\W]+',' ',text.lower())+' '.join(emoticons).replace('-','')\n",
    "    tokenized= [w for w in text.split() if w not in stop]\n",
    "    return tokenized"
   ]
  },
  {
   "cell_type": "code",
   "execution_count": 157,
   "metadata": {},
   "outputs": [],
   "source": [
    "def filter_word(corpus):\n",
    "    tmp = corpus.copy()\n",
    "    for i in range(0,len(corpus)):\n",
    "        tmp[i] = tokenizer(corpus[i])\n",
    "    return tmp\n",
    "\n",
    "def count_word(vocal, corpus):\n",
    "    des = vocal\n",
    "    for key in des:\n",
    "        des[key] = 0\n",
    "    for sentence in corpus:\n",
    "         for word in sentence:\n",
    "            if word in des:\n",
    "                des[word] += 1\n",
    "    return des"
   ]
  },
  {
   "cell_type": "code",
   "execution_count": 158,
   "metadata": {},
   "outputs": [
    {
     "name": "stdout",
     "output_type": "stream",
     "text": [
      "1795\n"
     ]
    }
   ],
   "source": [
    "filter_corpus = filter_word(corpus)\n",
    "filter_V = count_word(vocal, filter_corpus)\n",
    "#ls = sorted(V1.items(), key=lambda d: d[1],reverse=True)\n",
    "V = {k:v for k,v in filter_V.items() if v > 1}\n",
    "\n",
    "check_keys = list(V.keys())\n",
    "feature_size = len(check_keys)\n",
    "print(feature_size)"
   ]
  },
  {
   "cell_type": "code",
   "execution_count": 159,
   "metadata": {},
   "outputs": [],
   "source": [
    "def feature_construct(raw_x):\n",
    "    tmp = raw_x.copy()\n",
    "    res = np.zeros((len(raw_x),feature_size), dtype=np.double)\n",
    "    for i in range(0,len(raw_x)):\n",
    "        tmp = tokenizer(raw_x[i])\n",
    "        for j in range(0,feature_size):\n",
    "            if check_keys[j] in tmp:\n",
    "                res[i][j] +=1\n",
    "            \n",
    "    return res"
   ]
  },
  {
   "cell_type": "code",
   "execution_count": 160,
   "metadata": {},
   "outputs": [
    {
     "name": "stdout",
     "output_type": "stream",
     "text": [
      "(2400, 1795)\n",
      "(600, 1795)\n"
     ]
    }
   ],
   "source": [
    "x_tr = feature_construct(tr_text_list)\n",
    "x_te  = feature_construct(te_text_list)\n",
    "\n",
    "print(x_tr.shape)\n",
    "print(x_te.shape)"
   ]
  },
  {
   "cell_type": "markdown",
   "metadata": {},
   "source": [
    "### Generate a logistic regression model\n",
    "\n",
    "use k-fold (k>3) for validation\n",
    "\n",
    "Choose at least one hyperparameter that controls model __complexity and/or its tendency to overfit__. Vary that hyperparameter in a systematic way, testing it using a __cross-validation__ methodology.\n",
    "\n",
    "Explain the hyperparameter(s) you chose, the range of values you explored (and why), and describe the cross-validation testing in a clear enough manner that the reader could reproduce its basic form, if desired.\n",
    "\n",
    "Produce at least one figure that shows, for at least one tested hyperparameter, at performance on at least 5 distinct values.<br>\n",
    "this performance should be plotted __in terms of average error for both training and validation data across the multiple folds__, for each of the values of the hyperparameter. Include information, either in the figure, or along with it in the report, on the uncertainty in these results."
   ]
  },
  {
   "cell_type": "code",
   "execution_count": 161,
   "metadata": {},
   "outputs": [],
   "source": [
    "from sklearn.linear_model import LogisticRegression\n",
    "from sklearn.metrics import log_loss\n",
    "\n",
    "tr_loss_list = list()\n",
    "C_grid = np.logspace(-6, 6, 31)\n",
    "# Build and evaluate model for each value C\n",
    "for c in C_grid:\n",
    "    lr = LogisticRegression(C=c,solver='liblinear')\n",
    "    lr.fit(x_tr, y_tr)\n",
    "    train_proba = lr.predict_proba(x_tr)\n",
    "    tr_loss_list.append(log_loss(y_tr, train_proba))\n",
    "\n",
    "idx_min = tr_loss_list.index(min(tr_loss_list))\n",
    "Best_C =  C_grid[idx_min]"
   ]
  },
  {
   "cell_type": "code",
   "execution_count": 162,
   "metadata": {},
   "outputs": [
    {
     "name": "stdout",
     "output_type": "stream",
     "text": [
      "Best C-value for LR : 1000000.000\n",
      "Train set log-loss at best C-value: 0.0177\n"
     ]
    },
    {
     "data": {
      "image/png": "[encoded data removed]",
      "text/plain": [
       "<Figure size 576x396 with 1 Axes>"
      ]
     },
     "metadata": {},
     "output_type": "display_data"
    }
   ],
   "source": [
    "log10_C = np.log10(C_grid)\n",
    "plt.plot(log10_C,tr_loss_list, color=\"blue\", label = \"train_loss\")\n",
    "plt.xlabel('log10(C)');\n",
    "plt.ylabel('logistic loss');\n",
    "plt.ylim([0.0, 0.7]);\n",
    "plt.legend(loc='upper right')\n",
    "\n",
    "print(\"Best C-value for LR : %.3f\" %  C_grid[idx_min])\n",
    "print(\"Train set log-loss at best C-value: %.4f\" % min(tr_loss_list))"
   ]
  },
  {
   "cell_type": "markdown",
   "metadata": {},
   "source": [
    "### Cross-Validation: K-Fold for Basic Count\n",
    "__choose the best hyperparameter and then predict the result__<br>\n",
    "in this validation, choose k=10"
   ]
  },
  {
   "cell_type": "code",
   "execution_count": 163,
   "metadata": {},
   "outputs": [
    {
     "name": "stdout",
     "output_type": "stream",
     "text": [
      "Fold: 1, Class dist.: [1080 1080], Acc: 0.746\n",
      "Fold: 2, Class dist.: [1080 1080], Acc: 0.746\n",
      "Fold: 3, Class dist.: [1080 1080], Acc: 0.692\n",
      "Fold: 4, Class dist.: [1080 1080], Acc: 0.721\n",
      "Fold: 5, Class dist.: [1080 1080], Acc: 0.700\n",
      "Fold: 6, Class dist.: [1080 1080], Acc: 0.704\n",
      "Fold: 7, Class dist.: [1080 1080], Acc: 0.733\n",
      "Fold: 8, Class dist.: [1080 1080], Acc: 0.667\n",
      "Fold: 9, Class dist.: [1080 1080], Acc: 0.683\n",
      "Fold: 10, Class dist.: [1080 1080], Acc: 0.667\n",
      "\n",
      "Cross-Validation accuracy: 0.706 +/- 0.028\n"
     ]
    }
   ],
   "source": [
    "from sklearn.model_selection import StratifiedKFold\n",
    "folds = StratifiedKFold(n_splits=10,random_state=1)\n",
    "scores_lr = []\n",
    "X = x_tr\n",
    "y = np.array(y_tr)\n",
    "k = 0\n",
    "for train_index, test_index in folds.split(X,y ):\n",
    "    k +=1\n",
    "    X_train, X_test = X[train_index], X[test_index]\n",
    "    y_train, y_test = y[train_index], y[test_index]\n",
    "    lr = LogisticRegression(C=Best_C,solver='liblinear')\n",
    "    lr.fit(X_train,y_train)\n",
    "    scores_lr.append(lr.score(X_test,y_test))\n",
    "    print('Fold: %s, Class dist.: %s, Acc: %.3f' % (k, np.bincount(y_train), lr.score(X_test,y_test)))\n",
    "    \n",
    "print('\\nCross-Validation accuracy: %.3f +/- %.3f' % (np.mean(scores_lr), np.std(scores_lr)))"
   ]
  },
  {
   "cell_type": "markdown",
   "metadata": {},
   "source": [
    "### Use TF-IDF"
   ]
  },
  {
   "cell_type": "code",
   "execution_count": 164,
   "metadata": {},
   "outputs": [
    {
     "name": "stdout",
     "output_type": "stream",
     "text": [
      "(2400, 5155)\n",
      "(600, 5155)\n"
     ]
    }
   ],
   "source": [
    "from sklearn.feature_extraction.text import TfidfVectorizer\n",
    "tfidf_vec = TfidfVectorizer()\n",
    "X_all = tr_text_list + te_text_list # Combine both to fit the TFIDF vectorization.\n",
    "tfidf_vec.fit(X_all)\n",
    "X_all = tfidf_vec.transform(X_all)\n",
    "\n",
    "X_tf_train = X_all[:train_len] # Separate back into training and test sets. \n",
    "X_tf_test = X_all[train_len:]\n",
    "\n",
    "print(X_tf_train.shape)\n",
    "print(X_tf_test.shape)\n",
    "#for i in range(0,len(sent_tf_vec)):"
   ]
  },
  {
   "cell_type": "code",
   "execution_count": 165,
   "metadata": {},
   "outputs": [],
   "source": [
    "tr_loss_list = list()\n",
    "C_grid = np.logspace(-6, 6, 31)\n",
    "# Build and evaluate model for each value C\n",
    "for c in C_grid:\n",
    "    lr = LogisticRegression(C=c,solver='liblinear')\n",
    "    lr.fit(X_tf_train, y_tr)\n",
    "    train_proba = lr.predict_proba(X_tf_train)\n",
    "    tr_loss_list.append(log_loss(y_tr, train_proba))\n",
    "\n",
    "idx_min = tr_loss_list.index(min(tr_loss_list))\n",
    "Best_tf_C =  C_grid[idx_min]"
   ]
  },
  {
   "cell_type": "code",
   "execution_count": 166,
   "metadata": {},
   "outputs": [
    {
     "name": "stdout",
     "output_type": "stream",
     "text": [
      "Best C-value for LR : 1000000.000\n",
      "Train set log-loss at best C-value: 0.0000\n"
     ]
    },
    {
     "data": {
      "image/png": "[encoded data removed]",
      "text/plain": [
       "<Figure size 576x396 with 1 Axes>"
      ]
     },
     "metadata": {},
     "output_type": "display_data"
    }
   ],
   "source": [
    "log10_C = np.log10(C_grid)\n",
    "plt.plot(log10_C,tr_loss_list, color=\"blue\", label = \"train_loss\")\n",
    "plt.xlabel('log10(C)');\n",
    "plt.ylabel('logistic loss');\n",
    "plt.ylim([0.0, 0.7]);\n",
    "plt.legend(loc='upper right')\n",
    "\n",
    "print(\"Best C-value for LR : %.3f\" %  C_grid[idx_min])\n",
    "print(\"Train set log-loss at best C-value: %.4f\" % min(tr_loss_list))"
   ]
  },
  {
   "cell_type": "markdown",
   "metadata": {},
   "source": [
    "### Cross-Validation: K-Fold for TF-IDF\n",
    "__choose the best hyperparameter and then predict the result__<br>\n",
    "in this validation, choose k=10"
   ]
  },
  {
   "cell_type": "code",
   "execution_count": 167,
   "metadata": {},
   "outputs": [
    {
     "name": "stdout",
     "output_type": "stream",
     "text": [
      "Fold: 1, Class dist.: [1080 1080], Acc: 0.829\n",
      "Fold: 2, Class dist.: [1080 1080], Acc: 0.817\n",
      "Fold: 3, Class dist.: [1080 1080], Acc: 0.771\n",
      "Fold: 4, Class dist.: [1080 1080], Acc: 0.800\n",
      "Fold: 5, Class dist.: [1080 1080], Acc: 0.762\n",
      "Fold: 6, Class dist.: [1080 1080], Acc: 0.779\n",
      "Fold: 7, Class dist.: [1080 1080], Acc: 0.771\n",
      "Fold: 8, Class dist.: [1080 1080], Acc: 0.783\n",
      "Fold: 9, Class dist.: [1080 1080], Acc: 0.800\n",
      "Fold: 10, Class dist.: [1080 1080], Acc: 0.808\n",
      "\n",
      "Cross-Validation accuracy: 0.749 +/- 0.050\n"
     ]
    }
   ],
   "source": [
    "folds = StratifiedKFold(n_splits=10,random_state=1)\n",
    "scores_tf_lr = []\n",
    "X = X_tf_train\n",
    "y = np.array(y_tr)\n",
    "k = 0\n",
    "for train_index, test_index in folds.split(X,y ):\n",
    "    k +=1\n",
    "    X_train, X_test = X[train_index], X[test_index]\n",
    "    y_train, y_test = y[train_index], y[test_index]\n",
    "    lr = LogisticRegression(C=Best_tf_C,solver='liblinear')\n",
    "    lr.fit(X_train,y_train)\n",
    "    scores_lr.append(lr.score(X_test,y_test))\n",
    "    print('Fold: %s, Class dist.: %s, Acc: %.3f' % (k, np.bincount(y_train), lr.score(X_test,y_test)))\n",
    "    \n",
    "print('\\nCross-Validation accuracy: %.3f +/- %.3f' % (np.mean(scores_lr), np.std(scores_lr)))"
   ]
  },
  {
   "cell_type": "markdown",
   "metadata": {},
   "source": [
    "### Generate a neural network (or MLP) model with Basic Count"
   ]
  },
  {
   "cell_type": "code",
   "execution_count": 168,
   "metadata": {},
   "outputs": [],
   "source": [
    "def MLP_runs(state):\n",
    "    start_time_sec = time.time()\n",
    "    mlp_lbfgs = MLPClassifierLBFGS(\n",
    "        hidden_layer_sizes=[2],\n",
    "        activation='relu',\n",
    "        alpha=0.0001,\n",
    "        max_iter=200, tol=1e-6,\n",
    "        random_state=state,)\n",
    "    with warnings.catch_warnings(record=True) as warn_list:\n",
    "        mlp_lbfgs.fit(x_tr, y_tr)\n",
    "        elapsed_time_sec = time.time() - start_time_sec\n",
    "        print('finished LBFGS run %2d/%d after %6.1f sec | %3d iters | %s | loss %.3f' % (\n",
    "            state, n_runs, elapsed_time_sec,len(mlp_lbfgs.loss_curve_),\n",
    "            'converged   ' if mlp_lbfgs.did_converge else 'NOT converged',\n",
    "            mlp_lbfgs.loss_))\n",
    "    return mlp_lbfgs"
   ]
  },
  {
   "cell_type": "code",
   "execution_count": 169,
   "metadata": {},
   "outputs": [
    {
     "name": "stdout",
     "output_type": "stream",
     "text": [
      "finished LBFGS run  0/16 after    0.2 sec |   4 iters | converged    | loss 0.510\n",
      "finished LBFGS run  1/16 after    1.9 sec | 118 iters | converged    | loss 0.082\n",
      "finished LBFGS run  2/16 after    2.5 sec | 173 iters | NOT converged | loss 0.018\n",
      "finished LBFGS run  3/16 after    2.6 sec | 176 iters | NOT converged | loss 0.018\n",
      "finished LBFGS run  4/16 after    2.6 sec | 175 iters | NOT converged | loss 0.019\n",
      "finished LBFGS run  5/16 after    0.1 sec |   5 iters | converged    | loss 0.693\n",
      "finished LBFGS run  6/16 after    2.6 sec | 180 iters | NOT converged | loss 0.018\n",
      "finished LBFGS run  7/16 after    1.3 sec |  76 iters | converged    | loss 0.103\n",
      "finished LBFGS run  8/16 after    2.5 sec | 158 iters | NOT converged | loss 0.042\n",
      "finished LBFGS run  9/16 after    2.5 sec | 178 iters | NOT converged | loss 0.020\n",
      "finished LBFGS run 10/16 after    2.6 sec | 177 iters | NOT converged | loss 0.026\n",
      "finished LBFGS run 11/16 after    2.7 sec | 169 iters | NOT converged | loss 0.024\n",
      "finished LBFGS run 12/16 after    2.5 sec | 185 iters | NOT converged | loss 0.026\n",
      "finished LBFGS run 13/16 after    2.6 sec | 185 iters | NOT converged | loss 0.017\n",
      "finished LBFGS run 14/16 after    2.0 sec | 114 iters | converged    | loss 0.117\n",
      "finished LBFGS run 15/16 after    0.2 sec |   5 iters | converged    | loss 0.655\n"
     ]
    }
   ],
   "source": [
    "n_runs = 16\n",
    "result_relu = []\n",
    "for i in range(0, n_runs):\n",
    "        result_relu.append(MLP_runs(i))"
   ]
  },
  {
   "cell_type": "markdown",
   "metadata": {},
   "source": [
    "As the result Shown, the best one is __relu with state = 1 ( converged, loss = 0.082 )__ \n",
    "\n",
    "__result_relu[1]__<br>\n",
    "MLPClassifierLBFGS(activation='relu', alpha=0.0001, hidden_layer_sizes=[2],\n",
    "                   max_iter=200, random_state=1, tol=1e-06)"
   ]
  },
  {
   "cell_type": "markdown",
   "metadata": {},
   "source": [
    "### Cross-Validation: K-Fold with Basic Count\n",
    "__choose the best hyperparameter and then predict the result__<br>in this validation, choose k=10"
   ]
  },
  {
   "cell_type": "code",
   "execution_count": 170,
   "metadata": {},
   "outputs": [
    {
     "name": "stdout",
     "output_type": "stream",
     "text": [
      "Fold: 1, Acc: 0.779\n",
      "Fold: 2, Acc: 0.800\n",
      "Fold: 3, Acc: 0.792\n",
      "Fold: 4, Acc: 0.762\n",
      "Fold: 5, Acc: 0.771\n",
      "Fold: 6, Acc: 0.742\n",
      "Fold: 7, Acc: 0.746\n",
      "Fold: 8, Acc: 0.746\n",
      "Fold: 9, Acc: 0.725\n",
      "Fold: 10, Acc: 0.750\n",
      "\n",
      "Cross-Validation accuracy: 0.761 +/- 0.023\n"
     ]
    }
   ],
   "source": [
    "folds = StratifiedKFold(n_splits=10,random_state=1)\n",
    "X = x_tr\n",
    "y = np.array(y_tr)\n",
    "k = 0\n",
    "scores_mlp = []\n",
    "for train_index, test_index in folds.split(X,y ):\n",
    "    k +=1\n",
    "    X_train, X_test = X[train_index], X[test_index]\n",
    "    y_train, y_test = y[train_index], y[test_index]\n",
    "    mlp_lbfgs = MLPClassifierLBFGS(\n",
    "        hidden_layer_sizes=[2],\n",
    "        activation='relu',\n",
    "        alpha=0.0001,\n",
    "        max_iter=200, tol=1e-6,\n",
    "        random_state=1,)\n",
    "    mlp_lbfgs.fit(X_train,y_train)\n",
    "    scores_mlp.append(mlp_lbfgs.score(X_test,y_test))\n",
    "    print('Fold: %s, Acc: %.3f' % (k, mlp_lbfgs.score(X_test,y_test)))\n",
    "    \n",
    "print('\\nCross-Validation accuracy: %.3f +/- %.3f' % (np.mean(scores_mlp), np.std(scores_mlp)))"
   ]
  },
  {
   "cell_type": "markdown",
   "metadata": {},
   "source": [
    "### Cross-Validation: K-Fold with TF-IDF\n",
    "__choose the best hyperparameter and then predict the result__<br>in this validation, choose k=10"
   ]
  },
  {
   "cell_type": "code",
   "execution_count": 171,
   "metadata": {},
   "outputs": [],
   "source": [
    "def MLP_runs(state):\n",
    "    start_time_sec = time.time()\n",
    "    mlp_lbfgs = MLPClassifierLBFGS(\n",
    "        hidden_layer_sizes=[2],\n",
    "        activation='relu',\n",
    "        alpha=0.0001,\n",
    "        max_iter=200, tol=1e-6,\n",
    "        random_state=state,)\n",
    "    with warnings.catch_warnings(record=True) as warn_list:\n",
    "        mlp_lbfgs.fit( X_tf_train, y_tr)\n",
    "        elapsed_time_sec = time.time() - start_time_sec\n",
    "        print('finished LBFGS run %2d/%d after %6.1f sec | %3d iters | %s | loss %.3f' % (\n",
    "            state, n_runs, elapsed_time_sec,len(mlp_lbfgs.loss_curve_),\n",
    "            'converged   ' if mlp_lbfgs.did_converge else 'NOT converged',\n",
    "            mlp_lbfgs.loss_))\n",
    "    return mlp_lbfgs"
   ]
  },
  {
   "cell_type": "code",
   "execution_count": 172,
   "metadata": {},
   "outputs": [
    {
     "name": "stdout",
     "output_type": "stream",
     "text": [
      "finished LBFGS run  0/16 after    0.6 sec | 134 iters | converged    | loss 0.000\n",
      "finished LBFGS run  1/16 after    0.4 sec |  68 iters | converged    | loss 0.011\n",
      "finished LBFGS run  2/16 after    0.8 sec | 140 iters | converged    | loss 0.000\n",
      "finished LBFGS run  3/16 after    0.2 sec |  41 iters | converged    | loss 0.087\n",
      "finished LBFGS run  4/16 after    0.5 sec |  95 iters | converged    | loss 0.000\n",
      "finished LBFGS run  5/16 after    0.3 sec |  48 iters | converged    | loss 0.015\n",
      "finished LBFGS run  6/16 after    0.1 sec |   5 iters | converged    | loss 0.693\n",
      "finished LBFGS run  7/16 after    0.4 sec |  70 iters | converged    | loss 0.041\n",
      "finished LBFGS run  8/16 after    0.1 sec |   5 iters | converged    | loss 0.693\n",
      "finished LBFGS run  9/16 after    0.0 sec |   5 iters | converged    | loss 0.693\n",
      "finished LBFGS run 10/16 after    0.9 sec | 171 iters | NOT converged | loss 0.000\n",
      "finished LBFGS run 11/16 after    0.9 sec | 174 iters | NOT converged | loss 0.003\n",
      "finished LBFGS run 12/16 after    0.2 sec |  45 iters | converged    | loss 0.044\n",
      "finished LBFGS run 13/16 after    0.9 sec | 169 iters | NOT converged | loss 0.016\n",
      "finished LBFGS run 14/16 after    0.8 sec | 154 iters | NOT converged | loss 0.093\n",
      "finished LBFGS run 15/16 after    0.6 sec | 113 iters | converged    | loss 0.000\n"
     ]
    }
   ],
   "source": [
    "n_runs = 16\n",
    "result_relu = []\n",
    "for i in range(0, n_runs):\n",
    "        result_relu.append(MLP_runs(i))"
   ]
  },
  {
   "cell_type": "markdown",
   "metadata": {},
   "source": [
    "#### As the result Shown, the best one is __relu with state = 4 ( converged, loss = 0.000 and cost the less time)__ \n",
    "4/16 after    0.5 sec |  95 iters | converged    | loss 0.000<br>\n",
    "__result_relu[11]__<br>\n",
    "MLPClassifierLBFGS(activation='relu', alpha=0.0001, hidden_layer_sizes=[2],\n",
    "                   max_iter=200, random_state=4, tol=1e-06)"
   ]
  },
  {
   "cell_type": "code",
   "execution_count": 173,
   "metadata": {},
   "outputs": [
    {
     "name": "stdout",
     "output_type": "stream",
     "text": [
      "Fold: 1, Acc: 0.825\n",
      "Fold: 2, Acc: 0.838\n",
      "Fold: 3, Acc: 0.787\n",
      "Fold: 4, Acc: 0.829\n",
      "Fold: 5, Acc: 0.771\n",
      "Fold: 6, Acc: 0.775\n",
      "Fold: 7, Acc: 0.771\n",
      "Fold: 8, Acc: 0.800\n",
      "Fold: 9, Acc: 0.825\n",
      "Fold: 10, Acc: 0.850\n",
      "\n",
      "Cross-Validation accuracy: 0.807 +/- 0.028\n"
     ]
    }
   ],
   "source": [
    "folds = StratifiedKFold(n_splits=10,random_state=1)\n",
    "X = X_tf_train\n",
    "y = np.array(y_tr)\n",
    "k = 0\n",
    "scores_mlp = []\n",
    "for train_index, test_index in folds.split(X,y ):\n",
    "    k +=1\n",
    "    X_train, X_test = X[train_index], X[test_index]\n",
    "    y_train, y_test = y[train_index], y[test_index]\n",
    "    mlp_lbfgs = MLPClassifierLBFGS(\n",
    "        hidden_layer_sizes=[2],\n",
    "        activation='relu',\n",
    "        alpha=0.0001,\n",
    "        max_iter=200, tol=1e-6,\n",
    "        random_state=11,)\n",
    "    mlp_lbfgs.fit(X_train,y_train)\n",
    "    scores_mlp.append(mlp_lbfgs.score(X_test,y_test))\n",
    "    print('Fold: %s, Acc: %.3f' % (k, mlp_lbfgs.score(X_test,y_test)))\n",
    "    \n",
    "print('\\nCross-Validation accuracy: %.3f +/- %.3f' % (np.mean(scores_mlp), np.std(scores_mlp)))"
   ]
  },
  {
   "cell_type": "markdown",
   "metadata": {},
   "source": [
    "### Generate SVM model"
   ]
  },
  {
   "cell_type": "code",
   "execution_count": 174,
   "metadata": {},
   "outputs": [],
   "source": [
    "from sklearn import svm\n",
    "x_train = x_tr\n",
    "tr_loss_list = []\n",
    "C_grid = np.logspace(-6, 6, 31)\n",
    "# Build and evaluate model for each value C\n",
    "\n",
    "for c in C_grid:\n",
    "    clf = svm.SVC(C=c,gamma='scale')\n",
    "    clf.fit(x_train, y_tr)\n",
    "    pred = clf.predict(x_train)\n",
    "    \n",
    "    tr_loss_list.append(log_loss(y_tr, pred))\n",
    "\n",
    "idx_min = tr_loss_list.index(min(tr_loss_list))"
   ]
  },
  {
   "cell_type": "code",
   "execution_count": 175,
   "metadata": {},
   "outputs": [
    {
     "name": "stdout",
     "output_type": "stream",
     "text": [
      "Best C-value for LR : 39.811\n",
      "Train set log-loss at best C-value: 0.1727\n"
     ]
    },
    {
     "data": {
      "image/png": "[encoded data removed]",
      "text/plain": [
       "<Figure size 576x396 with 1 Axes>"
      ]
     },
     "metadata": {},
     "output_type": "display_data"
    }
   ],
   "source": [
    "log10_C = np.log10(C_grid)\n",
    "plt.plot(log10_C,tr_loss_list, color=\"blue\", label = \"train_loss\")\n",
    "plt.xlabel('log10(C)');\n",
    "plt.ylabel('logistic loss');\n",
    "plt.ylim([0.0, 1]);\n",
    "plt.legend(loc='upper right')\n",
    "\n",
    "print(\"Best C-value for LR : %.3f\" %  C_grid[idx_min])\n",
    "print(\"Train set log-loss at best C-value: %.4f\" % min(tr_loss_list))"
   ]
  },
  {
   "cell_type": "markdown",
   "metadata": {},
   "source": [
    "### Cross-Validation"
   ]
  },
  {
   "cell_type": "code",
   "execution_count": 176,
   "metadata": {},
   "outputs": [
    {
     "name": "stdout",
     "output_type": "stream",
     "text": [
      "Fold: 1, Acc: 1.000\n",
      "Fold: 2, Acc: 1.000\n",
      "Fold: 3, Acc: 0.992\n",
      "Fold: 4, Acc: 1.000\n",
      "Fold: 5, Acc: 0.992\n",
      "Fold: 6, Acc: 0.992\n",
      "Fold: 7, Acc: 0.992\n",
      "Fold: 8, Acc: 0.992\n",
      "Fold: 9, Acc: 1.000\n",
      "Fold: 10, Acc: 0.992\n",
      "\n",
      "Cross-Validation accuracy: 0.995 +/- 0.004\n"
     ]
    }
   ],
   "source": [
    "Best_C_svm = C_grid[idx_min]\n",
    "folds = StratifiedKFold(n_splits=10,random_state=1)\n",
    "\n",
    "X = x_tr\n",
    "y = np.array(y_tr)\n",
    "k = 0\n",
    "scores_svm = []\n",
    "for train_index, test_index in folds.split(X,y ):\n",
    "    k +=1\n",
    "    X_train, X_test = X[train_index], X[test_index]\n",
    "    y_train, y_test = y[train_index], y[test_index]\n",
    "    clf = svm.SVC(C=Best_C_svm,gamma='scale')\n",
    "    clf.fit(x_train, y_tr)\n",
    "    scores_svm.append(clf.score(X_test,y_test))\n",
    "    print('Fold: %s, Acc: %.3f' % (k, clf.score(X_test,y_test)))\n",
    "    \n",
    "print('\\nCross-Validation accuracy: %.3f +/- %.3f' % (np.mean(scores_svm), np.std(scores_svm)))"
   ]
  },
  {
   "cell_type": "markdown",
   "metadata": {},
   "source": [
    "### Check the Learning Curve"
   ]
  },
  {
   "cell_type": "code",
   "execution_count": 177,
   "metadata": {},
   "outputs": [
    {
     "data": {
      "text/plain": [
       "array([0, 1])"
      ]
     },
     "execution_count": 177,
     "metadata": {},
     "output_type": "execute_result"
    }
   ],
   "source": [
    "y = np.array(y_tr)\n",
    "np.unique(y)"
   ]
  },
  {
   "cell_type": "code",
   "execution_count": 178,
   "metadata": {},
   "outputs": [
    {
     "name": "stderr",
     "output_type": "stream",
     "text": [
      "D:\\Anaconda3\\lib\\site-packages\\sklearn\\model_selection\\_split.py:1978: FutureWarning: The default value of cv will change from 3 to 5 in version 0.22. Specify it explicitly to silence this warning.\n",
      "  warnings.warn(CV_WARNING, FutureWarning)\n"
     ]
    },
    {
     "data": {
      "image/png": "[encoded data removed]",
      "text/plain": [
       "<Figure size 576x396 with 1 Axes>"
      ]
     },
     "metadata": {},
     "output_type": "display_data"
    }
   ],
   "source": [
    "from sklearn.model_selection import learning_curve\n",
    "from sklearn.model_selection import validation_curve\n",
    "X = x_tr\n",
    "y = np.array(y_tr)\n",
    "#建立参数测试集\n",
    "param_range = np.logspace(-6, -2.3, 5)\n",
    "\n",
    "train_scores, test_scores = validation_curve(\n",
    "    svm.SVC(), X, y, param_name=\"gamma\", param_range=param_range,\n",
    "    scoring=\"accuracy\", n_jobs=1)\n",
    "train_scores_mean = np.mean(train_scores, axis=1)\n",
    "train_scores_std = np.std(train_scores, axis=1)\n",
    "test_scores_mean = np.mean(test_scores, axis=1)\n",
    "test_scores_std = np.std(test_scores, axis=1)\n",
    "\n",
    "plt.title(\"Validation Curve with SVM\")\n",
    "plt.xlabel(r\"$\\gamma$\")\n",
    "plt.ylabel(\"Score\")\n",
    "plt.ylim(0.0, 1.1)\n",
    "lw = 2\n",
    "plt.semilogx(param_range, train_scores_mean, label=\"Training score\",\n",
    "             color=\"darkorange\", lw=lw)\n",
    "plt.fill_between(param_range, train_scores_mean - train_scores_std,\n",
    "                 train_scores_mean + train_scores_std, alpha=0.2,\n",
    "                 color=\"darkorange\", lw=lw)\n",
    "plt.semilogx(param_range, test_scores_mean, label=\"Cross-validation score\",\n",
    "             color=\"navy\", lw=lw)\n",
    "plt.fill_between(param_range, test_scores_mean - test_scores_std,\n",
    "                 test_scores_mean + test_scores_std, alpha=0.2,\n",
    "                 color=\"navy\", lw=lw)\n",
    "plt.legend(loc=\"best\")\n",
    "plt.show()"
   ]
  },
  {
   "cell_type": "code",
   "execution_count": 179,
   "metadata": {},
   "outputs": [
    {
     "name": "stderr",
     "output_type": "stream",
     "text": [
      "D:\\Anaconda3\\lib\\site-packages\\sklearn\\model_selection\\_split.py:1978: FutureWarning: The default value of cv will change from 3 to 5 in version 0.22. Specify it explicitly to silence this warning.\n",
      "  warnings.warn(CV_WARNING, FutureWarning)\n",
      "D:\\Anaconda3\\lib\\site-packages\\sklearn\\svm\\base.py:193: FutureWarning: The default value of gamma will change from 'auto' to 'scale' in version 0.22 to account better for unscaled features. Set gamma explicitly to 'auto' or 'scale' to avoid this warning.\n",
      "  \"avoid this warning.\", FutureWarning)\n",
      "D:\\Anaconda3\\lib\\site-packages\\sklearn\\svm\\base.py:193: FutureWarning: The default value of gamma will change from 'auto' to 'scale' in version 0.22 to account better for unscaled features. Set gamma explicitly to 'auto' or 'scale' to avoid this warning.\n",
      "  \"avoid this warning.\", FutureWarning)\n",
      "D:\\Anaconda3\\lib\\site-packages\\sklearn\\svm\\base.py:193: FutureWarning: The default value of gamma will change from 'auto' to 'scale' in version 0.22 to account better for unscaled features. Set gamma explicitly to 'auto' or 'scale' to avoid this warning.\n",
      "  \"avoid this warning.\", FutureWarning)\n",
      "D:\\Anaconda3\\lib\\site-packages\\sklearn\\svm\\base.py:193: FutureWarning: The default value of gamma will change from 'auto' to 'scale' in version 0.22 to account better for unscaled features. Set gamma explicitly to 'auto' or 'scale' to avoid this warning.\n",
      "  \"avoid this warning.\", FutureWarning)\n",
      "D:\\Anaconda3\\lib\\site-packages\\sklearn\\svm\\base.py:193: FutureWarning: The default value of gamma will change from 'auto' to 'scale' in version 0.22 to account better for unscaled features. Set gamma explicitly to 'auto' or 'scale' to avoid this warning.\n",
      "  \"avoid this warning.\", FutureWarning)\n",
      "D:\\Anaconda3\\lib\\site-packages\\sklearn\\svm\\base.py:193: FutureWarning: The default value of gamma will change from 'auto' to 'scale' in version 0.22 to account better for unscaled features. Set gamma explicitly to 'auto' or 'scale' to avoid this warning.\n",
      "  \"avoid this warning.\", FutureWarning)\n",
      "D:\\Anaconda3\\lib\\site-packages\\sklearn\\svm\\base.py:193: FutureWarning: The default value of gamma will change from 'auto' to 'scale' in version 0.22 to account better for unscaled features. Set gamma explicitly to 'auto' or 'scale' to avoid this warning.\n",
      "  \"avoid this warning.\", FutureWarning)\n",
      "D:\\Anaconda3\\lib\\site-packages\\sklearn\\svm\\base.py:193: FutureWarning: The default value of gamma will change from 'auto' to 'scale' in version 0.22 to account better for unscaled features. Set gamma explicitly to 'auto' or 'scale' to avoid this warning.\n",
      "  \"avoid this warning.\", FutureWarning)\n",
      "D:\\Anaconda3\\lib\\site-packages\\sklearn\\svm\\base.py:193: FutureWarning: The default value of gamma will change from 'auto' to 'scale' in version 0.22 to account better for unscaled features. Set gamma explicitly to 'auto' or 'scale' to avoid this warning.\n",
      "  \"avoid this warning.\", FutureWarning)\n",
      "D:\\Anaconda3\\lib\\site-packages\\sklearn\\svm\\base.py:193: FutureWarning: The default value of gamma will change from 'auto' to 'scale' in version 0.22 to account better for unscaled features. Set gamma explicitly to 'auto' or 'scale' to avoid this warning.\n",
      "  \"avoid this warning.\", FutureWarning)\n",
      "D:\\Anaconda3\\lib\\site-packages\\sklearn\\svm\\base.py:193: FutureWarning: The default value of gamma will change from 'auto' to 'scale' in version 0.22 to account better for unscaled features. Set gamma explicitly to 'auto' or 'scale' to avoid this warning.\n",
      "  \"avoid this warning.\", FutureWarning)\n",
      "D:\\Anaconda3\\lib\\site-packages\\sklearn\\svm\\base.py:193: FutureWarning: The default value of gamma will change from 'auto' to 'scale' in version 0.22 to account better for unscaled features. Set gamma explicitly to 'auto' or 'scale' to avoid this warning.\n",
      "  \"avoid this warning.\", FutureWarning)\n",
      "D:\\Anaconda3\\lib\\site-packages\\sklearn\\svm\\base.py:193: FutureWarning: The default value of gamma will change from 'auto' to 'scale' in version 0.22 to account better for unscaled features. Set gamma explicitly to 'auto' or 'scale' to avoid this warning.\n",
      "  \"avoid this warning.\", FutureWarning)\n",
      "D:\\Anaconda3\\lib\\site-packages\\sklearn\\svm\\base.py:193: FutureWarning: The default value of gamma will change from 'auto' to 'scale' in version 0.22 to account better for unscaled features. Set gamma explicitly to 'auto' or 'scale' to avoid this warning.\n",
      "  \"avoid this warning.\", FutureWarning)\n",
      "D:\\Anaconda3\\lib\\site-packages\\sklearn\\svm\\base.py:193: FutureWarning: The default value of gamma will change from 'auto' to 'scale' in version 0.22 to account better for unscaled features. Set gamma explicitly to 'auto' or 'scale' to avoid this warning.\n",
      "  \"avoid this warning.\", FutureWarning)\n"
     ]
    },
    {
     "data": {
      "image/png": "[encoded data removed]",
      "text/plain": [
       "<Figure size 576x396 with 1 Axes>"
      ]
     },
     "metadata": {},
     "output_type": "display_data"
    }
   ],
   "source": [
    "param_range = np.logspace(-6, -2.3, 5)\n",
    "\n",
    "train_scores, test_scores = validation_curve(\n",
    "    svm.SVC(), X, y, param_name=\"C\", param_range=param_range,\n",
    "    scoring=\"accuracy\", n_jobs=1)\n",
    "train_scores_mean = np.mean(train_scores, axis=1)\n",
    "train_scores_std = np.std(train_scores, axis=1)\n",
    "test_scores_mean = np.mean(test_scores, axis=1)\n",
    "test_scores_std = np.std(test_scores, axis=1)\n",
    "\n",
    "plt.title(\"Validation Curve with SVM\")\n",
    "plt.xlabel(r\"$\\gamma$\")\n",
    "plt.ylabel(\"Score\")\n",
    "plt.ylim(0.0, 1.1)\n",
    "lw = 2\n",
    "plt.semilogx(param_range, train_scores_mean, label=\"Training score\",\n",
    "             color=\"darkorange\", lw=lw)\n",
    "plt.fill_between(param_range, train_scores_mean - train_scores_std,\n",
    "                 train_scores_mean + train_scores_std, alpha=0.2,\n",
    "                 color=\"darkorange\", lw=lw)\n",
    "plt.semilogx(param_range, test_scores_mean, label=\"Cross-validation score\",\n",
    "             color=\"navy\", lw=lw)\n",
    "plt.fill_between(param_range, test_scores_mean - test_scores_std,\n",
    "                 test_scores_mean + test_scores_std, alpha=0.2,\n",
    "                 color=\"navy\", lw=lw)\n",
    "plt.legend(loc=\"best\")\n",
    "plt.show()"
   ]
  },
  {
   "cell_type": "code",
   "execution_count": 180,
   "metadata": {},
   "outputs": [],
   "source": [
    "x_train = X_tf_train\n",
    "tr_loss_list = []\n",
    "C_grid = np.logspace(-6, 6, 31)\n",
    "# Build and evaluate model for each value C\n",
    "\n",
    "for c in C_grid:\n",
    "    clf = svm.SVC(C=c,gamma='scale')\n",
    "    clf.fit(x_train, y_tr)\n",
    "    pred = clf.predict(x_train)\n",
    "    \n",
    "    tr_loss_list.append(log_loss(y_tr, pred))\n",
    "\n",
    "idx_min = tr_loss_list.index(min(tr_loss_list))"
   ]
  },
  {
   "cell_type": "code",
   "execution_count": 181,
   "metadata": {},
   "outputs": [
    {
     "name": "stdout",
     "output_type": "stream",
     "text": [
      "Best C-value for LR : 6.310\n",
      "Train set log-loss at best C-value: 0.0000\n"
     ]
    },
    {
     "data": {
      "image/png": "[encoded data removed]",
      "text/plain": [
       "<Figure size 576x396 with 1 Axes>"
      ]
     },
     "metadata": {},
     "output_type": "display_data"
    }
   ],
   "source": [
    "log10_C = np.log10(C_grid)\n",
    "plt.plot(log10_C,tr_loss_list, color=\"blue\", label = \"train_loss\")\n",
    "plt.xlabel('log10(C)');\n",
    "plt.ylabel('logistic loss');\n",
    "plt.ylim([0.0, 1]);\n",
    "plt.legend(loc='upper right')\n",
    "\n",
    "print(\"Best C-value for LR : %.3f\" %  C_grid[idx_min])\n",
    "print(\"Train set log-loss at best C-value: %.4f\" % min(tr_loss_list))"
   ]
  },
  {
   "cell_type": "markdown",
   "metadata": {},
   "source": [
    "### Cross-Validation: K-Fold for TF-IDF\n",
    "__choose the best hyperparameter and then predict the result__<br>in this validation, choose k=10"
   ]
  },
  {
   "cell_type": "code",
   "execution_count": 182,
   "metadata": {},
   "outputs": [
    {
     "name": "stdout",
     "output_type": "stream",
     "text": [
      "Fold: 1, Acc: 1.000\n",
      "Fold: 2, Acc: 1.000\n",
      "Fold: 3, Acc: 1.000\n",
      "Fold: 4, Acc: 1.000\n",
      "Fold: 5, Acc: 1.000\n",
      "Fold: 6, Acc: 1.000\n",
      "Fold: 7, Acc: 1.000\n",
      "Fold: 8, Acc: 1.000\n",
      "Fold: 9, Acc: 1.000\n",
      "Fold: 10, Acc: 1.000\n",
      "\n",
      "Cross-Validation accuracy: 1.000 +/- 0.000\n"
     ]
    }
   ],
   "source": [
    "Best_C_svm_tf = C_grid[idx_min]\n",
    "folds = StratifiedKFold(n_splits=10,random_state=1)\n",
    "\n",
    "X =  X_tf_train\n",
    "y = np.array(y_tr)\n",
    "k = 0\n",
    "scores_svm = []\n",
    "for train_index, test_index in folds.split(X,y ):\n",
    "    k +=1\n",
    "    X_train, X_test = X[train_index], X[test_index]\n",
    "    y_train, y_test = y[train_index], y[test_index]\n",
    "    clf = svm.SVC(C=Best_C_svm_tf,gamma='scale')\n",
    "    clf.fit(x_train, y_tr)\n",
    "    scores_svm.append(clf.score(X_test,y_test))\n",
    "    print('Fold: %s, Acc: %.3f' % (k, clf.score(X_test,y_test)))\n",
    "    \n",
    "print('\\nCross-Validation accuracy: %.3f +/- %.3f' % (np.mean(scores_svm), np.std(scores_svm)))"
   ]
  },
  {
   "cell_type": "markdown",
   "metadata": {},
   "source": [
    "### Output the result of Prediction"
   ]
  },
  {
   "cell_type": "code",
   "execution_count": 228,
   "metadata": {},
   "outputs": [],
   "source": [
    "import pandas as pd\n",
    "X =  X_tf_train\n",
    "y = np.array(y_tr)\n",
    "clf = svm.SVC(C=Best_C_svm_tf,gamma='scale')\n",
    "clf.fit(x_train, y_tr)\n",
    "ypred_test = clf.predict(X_tf_test)\n",
    "np.savetxt('yproba1_test.txt', ypred_test)"
   ]
  },
  {
   "cell_type": "code",
   "execution_count": 221,
   "metadata": {},
   "outputs": [
    {
     "data": {
      "text/plain": [
       "(600,)"
      ]
     },
     "execution_count": 221,
     "metadata": {},
     "output_type": "execute_result"
    }
   ],
   "source": [
    "df = pd.DataFrame(ypred_test)\n",
    "#df.columns=['is_positive_sentiment']\n",
    "df.to_csv('y_test.csv', index=False,header=False)\n",
    "ypred_test.shape"
   ]
  }
 ],
 "metadata": {
  "kernelspec": {
   "display_name": "Python 3",
   "language": "python",
   "name": "python3"
  },
  "language_info": {
   "codemirror_mode": {
    "name": "ipython",
    "version": 3
   },
   "file_extension": ".py",
   "mimetype": "text/x-python",
   "name": "python",
   "nbconvert_exporter": "python",
   "pygments_lexer": "ipython3",
   "version": "3.7.5"
  }
 },
 "nbformat": 4,
 "nbformat_minor": 2
}
