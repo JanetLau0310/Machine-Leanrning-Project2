{
 "cells": [
  {
   "cell_type": "code",
   "execution_count": 67,
   "metadata": {},
   "outputs": [],
   "source": [
    "import os\n",
    "import re\n",
    "import numpy as np\n",
    "import pandas as pd\n",
    "import time\n",
    "import warnings\n",
    "\n",
    "from sklearn.neural_network import MLPClassifier\n",
    "\n",
    "from matplotlib import pyplot as plt\n",
    "import seaborn as sns\n",
    "\n",
    "from MLPClassifierWithSolverLBFGS import MLPClassifierLBFGS\n",
    "\n",
    "from viz_tools_for_binary_classifier import plot_pretty_probabilities_for_clf\n",
    "\n",
    "import sklearn.linear_model\n",
    "import sklearn.tree\n",
    "import sklearn.metrics\n",
    "\n",
    "%matplotlib inline\n",
    "plt.style.use('seaborn') # pretty matplotlib plots"
   ]
  },
  {
   "cell_type": "code",
   "execution_count": 68,
   "metadata": {},
   "outputs": [],
   "source": [
    "x_train_df = pd.read_csv('data/data_reviews/x_train.csv')\n",
    "y_train_df = pd.read_csv('data/data_reviews/y_train.csv')\n",
    "\n",
    "x_test_df  = pd.read_csv('data/data_reviews/x_test.csv')\n",
    "\n",
    "tr_text_list = x_train_df['text'].values.tolist()\n",
    "te_text_list = x_test_df['text'].values.tolist()\n",
    "\n",
    "y_tr = y_train_df['is_positive_sentiment'].values.tolist()\n",
    "\n",
    "train_len = len(tr_text_list)\n",
    "test_len = len(te_text_list)\n",
    "#te_text_list = x_train_df['text'].values.tolist()\n",
    "#for text in tr_text_list:\n",
    "#    print(text)"
   ]
  },
  {
   "cell_type": "code",
   "execution_count": 69,
   "metadata": {},
   "outputs": [],
   "source": [
    "from sklearn.feature_extraction.text import CountVectorizer\n",
    "\n",
    "vectorizer = CountVectorizer()\n",
    "corpus = tr_text_list\n",
    "X = vectorizer.fit_transform(corpus)\n",
    "vocal = vectorizer.vocabulary_"
   ]
  },
  {
   "cell_type": "code",
   "execution_count": 70,
   "metadata": {},
   "outputs": [],
   "source": [
    "from nltk.corpus import stopwords\n",
    "stop=stopwords.words('english')\n",
    "def tokenizer(text):\n",
    "    text=re.sub('<[^>]*>','',text)\n",
    "    emoticons=re.findall('(?::|;|=)(?:-)?(?:</span>|<spanclass=\"es0\">|D|P)',text.lower())\n",
    "    text=re.sub('[\\W]+',' ',text.lower())+' '.join(emoticons).replace('-','')\n",
    "    tokenized= [w for w in text.split() if w not in stop]\n",
    "    return tokenized"
   ]
  },
  {
   "cell_type": "code",
   "execution_count": 71,
   "metadata": {},
   "outputs": [],
   "source": [
    "def filter_word(corpus):\n",
    "    tmp = corpus.copy()\n",
    "    for i in range(0,len(corpus)):\n",
    "        tmp[i] = tokenizer(corpus[i])\n",
    "    return tmp\n",
    "\n",
    "def count_word(vocal, corpus):\n",
    "    des = vocal\n",
    "    for key in des:\n",
    "        des[key] = 0\n",
    "    for sentence in corpus:\n",
    "         for word in sentence:\n",
    "            if word in des:\n",
    "                des[word] += 1\n",
    "    return des"
   ]
  },
  {
   "cell_type": "code",
   "execution_count": 72,
   "metadata": {},
   "outputs": [
    {
     "name": "stdout",
     "output_type": "stream",
     "text": [
      "1810\n"
     ]
    }
   ],
   "source": [
    "filter_corpus = filter_word(corpus)\n",
    "filter_V = count_word(vocal, filter_corpus)\n",
    "#ls = sorted(V1.items(), key=lambda d: d[1],reverse=True)\n",
    "V = {k:v for k,v in filter_V.items() if v > 1}\n",
    "\n",
    "check_keys = list(V.keys())\n",
    "feature_size = len(check_keys)\n",
    "print(feature_size)"
   ]
  },
  {
   "cell_type": "code",
   "execution_count": 73,
   "metadata": {},
   "outputs": [],
   "source": [
    "def feature_construct(raw_x):\n",
    "    tmp = raw_x.copy()\n",
    "    res = np.zeros((len(raw_x),feature_size), dtype=np.double)\n",
    "    for i in range(0,len(raw_x)):\n",
    "        tmp = tokenizer(raw_x[i])\n",
    "        for j in range(0,feature_size):\n",
    "            if check_keys[j] in tmp:\n",
    "                res[i][j] +=1\n",
    "            \n",
    "    return res"
   ]
  },
  {
   "cell_type": "code",
   "execution_count": 74,
   "metadata": {},
   "outputs": [
    {
     "name": "stdout",
     "output_type": "stream",
     "text": [
      "(2400, 1810)\n",
      "(600, 1810)\n"
     ]
    }
   ],
   "source": [
    "x_tr = feature_construct(tr_text_list)\n",
    "x_te  = feature_construct(te_text_list)\n",
    "\n",
    "print(x_tr.shape)\n",
    "print(x_te.shape)"
   ]
  },
  {
   "cell_type": "markdown",
   "metadata": {},
   "source": [
    "### Generate a logistic regression model\n",
    "\n",
    "use k-fold (k>3) for validation\n",
    "\n",
    "Choose at least one hyperparameter that controls model __complexity and/or its tendency to overfit__. Vary that hyperparameter in a systematic way, testing it using a __cross-validation__ methodology.\n",
    "\n",
    "Explain the hyperparameter(s) you chose, the range of values you explored (and why), and describe the cross-validation testing in a clear enough manner that the reader could reproduce its basic form, if desired.\n",
    "\n",
    "Produce at least one figure that shows, for at least one tested hyperparameter, at performance on at least 5 distinct values.<br>\n",
    "this performance should be plotted __in terms of average error for both training and validation data across the multiple folds__, for each of the values of the hyperparameter. Include information, either in the figure, or along with it in the report, on the uncertainty in these results."
   ]
  },
  {
   "cell_type": "code",
   "execution_count": 80,
   "metadata": {},
   "outputs": [],
   "source": [
    "from sklearn.linear_model import LogisticRegression\n",
    "from sklearn.metrics import log_loss\n",
    "\n",
    "tr_loss_list = list()\n",
    "C_grid = np.logspace(-9, 6, 41)\n",
    "# Build and evaluate model for each value C\n",
    "for c in C_grid:\n",
    "    lr = LogisticRegression(C=c,solver='liblinear')\n",
    "    lr.fit(x_tr, y_tr)\n",
    "    train_proba = lr.predict_proba(x_tr)\n",
    "    tr_loss_list.append(log_loss(y_tr, train_proba))\n",
    "\n",
    "idx_min = tr_loss_list.index(min(tr_loss_list))"
   ]
  },
  {
   "cell_type": "code",
   "execution_count": 81,
   "metadata": {},
   "outputs": [
    {
     "name": "stdout",
     "output_type": "stream",
     "text": [
      "Best C-value for LR : 1000000.000\n",
      "Train set log-loss at best C-value: 0.0160\n"
     ]
    },
    {
     "data": {
      "image/png": "[encoded data removed]",
      "text/plain": [
       "<Figure size 576x396 with 1 Axes>"
      ]
     },
     "metadata": {},
     "output_type": "display_data"
    }
   ],
   "source": [
    "log10_C = np.log10(C_grid)\n",
    "plt.plot(log10_C,tr_loss_list, color=\"blue\", label = \"train_loss\")\n",
    "plt.xlabel('log10(C)');\n",
    "plt.ylabel('logistic loss');\n",
    "plt.ylim([0.0, 0.7]);\n",
    "plt.legend(loc='upper right')\n",
    "\n",
    "print(\"Best C-value for LR : %.3f\" %  C_grid[idx_min])\n",
    "print(\"Train set log-loss at best C-value: %.4f\" % min(tr_loss_list))"
   ]
  },
  {
   "cell_type": "markdown",
   "metadata": {},
   "source": [
    "### Use inverse document frequency "
   ]
  },
  {
   "cell_type": "code",
   "execution_count": 82,
   "metadata": {},
   "outputs": [],
   "source": [
    "from sklearn.feature_extraction.text import TfidfVectorizer as TFIV\n",
    "tfv = TFIV(min_df=3,  max_features=None, \n",
    "        strip_accents='unicode', analyzer='word',token_pattern=r'\\w{1,}',\n",
    "        ngram_range=(2,4), use_idf=1,smooth_idf=1,sublinear_tf=1,\n",
    "        stop_words = 'english')\n",
    "\n",
    "X_all = tr_text_list + te_text_list # Combine both to fit the TFIDF vectorization.\n",
    "tfv.fit(X_all)\n",
    "X_all = tfv.transform(X_all)\n",
    "\n",
    "X_tf_train = X_all[:train_len] # Separate back into training and test sets. \n",
    "X_tf_test = X_all[train_len:]"
   ]
  },
  {
   "cell_type": "code",
   "execution_count": 83,
   "metadata": {},
   "outputs": [],
   "source": [
    "tr_loss_list = list()\n",
    "C_grid = np.logspace(-9, 6, 41)\n",
    "# Build and evaluate model for each value C\n",
    "for c in C_grid:\n",
    "    lr = LogisticRegression(C=c,solver='liblinear')\n",
    "    lr.fit(X_tf_train, y_tr)\n",
    "    train_proba = lr.predict_proba(X_tf_train)\n",
    "    tr_loss_list.append(log_loss(y_tr, train_proba))\n",
    "\n",
    "idx_min = tr_loss_list.index(min(tr_loss_list))"
   ]
  },
  {
   "cell_type": "code",
   "execution_count": 84,
   "metadata": {},
   "outputs": [
    {
     "name": "stdout",
     "output_type": "stream",
     "text": [
      "Best C-value for LR : 1000000.000\n",
      "Train set log-loss at best C-value: 0.5385\n"
     ]
    },
    {
     "data": {
      "image/png": "[encoded data removed]",
      "text/plain": [
       "<Figure size 576x396 with 1 Axes>"
      ]
     },
     "metadata": {},
     "output_type": "display_data"
    }
   ],
   "source": [
    "log10_C = np.log10(C_grid)\n",
    "plt.plot(log10_C,tr_loss_list, color=\"blue\", label = \"train_loss\")\n",
    "plt.xlabel('log10(C)');\n",
    "plt.ylabel('logistic loss');\n",
    "plt.ylim([0.0, 0.8]);\n",
    "plt.legend(loc='upper right')\n",
    "\n",
    "print(\"Best C-value for LR : %.3f\" %  C_grid[idx_min])\n",
    "print(\"Train set log-loss at best C-value: %.4f\" % min(tr_loss_list))"
   ]
  },
  {
   "cell_type": "markdown",
   "metadata": {},
   "source": [
    "GridSearchCV  自动调参\n",
    "\n",
    "https://scikit-learn.org/stable/modules/generated/sklearn.model_selection.GridSearchCV.html"
   ]
  },
  {
   "cell_type": "code",
   "execution_count": null,
   "metadata": {},
   "outputs": [],
   "source": [
    "from sklearn.feature_extraction.text import HashingVectorizer\n",
    "from sklearn.linear_model import SGDClassifier\n",
    "vect=HashingVectorizer(decode_error='ignore',n_features=2**21,preprocessor=None,tokenizer=tokenizer)\n",
    "clf=SGDClassifier(loss='log',random_state=1,n_iter=1)"
   ]
  },
  {
   "cell_type": "code",
   "execution_count": null,
   "metadata": {},
   "outputs": [],
   "source": [
    "grid_values = {'C':[30]} # Decide which settings you want for the grid search. \n",
    "\n",
    "model_LR = GridSearchCV(LR(penalty = 'L2', dual = True, random_state = 0), \n",
    "                        grid_values, scoring = 'roc_auc', cv = 20) \n",
    "# Try to set the scoring on what the contest is asking for. \n",
    "# The contest says scoring is for area under the ROC curve, so use this.\n",
    "\n",
    "model_LR.fit(X,y_tr) # Fit the model."
   ]
  },
  {
   "cell_type": "markdown",
   "metadata": {},
   "source": [
    "### choose the best hyperparameter and then predict the result"
   ]
  },
  {
   "cell_type": "code",
   "execution_count": null,
   "metadata": {},
   "outputs": [],
   "source": [
    "LR_result = model_LR.predict_proba(X_test)[:,1] \n",
    "# We only need the probabilities that the movie review was a 7 or greater. \n",
    "LR_output = pd.DataFrame(data={\"id\":test[\"id\"], \"sentiment\":LR_result}) \n",
    "# Create our dataframe that will be written.\n",
    "LR_output.to_csv('Logistic_Reg_Proj2.csv', index=False, quoting=3)"
   ]
  },
  {
   "cell_type": "code",
   "execution_count": 86,
   "metadata": {},
   "outputs": [
    {
     "data": {
      "text/plain": [
       "(2400, 1810)"
      ]
     },
     "execution_count": 86,
     "metadata": {},
     "output_type": "execute_result"
    }
   ],
   "source": [
    "x_tr.shape"
   ]
  },
  {
   "cell_type": "markdown",
   "metadata": {},
   "source": [
    "### Generate a neural network (or MLP) model"
   ]
  },
  {
   "cell_type": "code",
   "execution_count": 87,
   "metadata": {},
   "outputs": [
    {
     "name": "stdout",
     "output_type": "stream",
     "text": [
      "finished LBFGS run  0/16 after    1.3 sec | 113 iters | converged    | loss 0.045\n",
      "finished LBFGS run  1/16 after    1.3 sec | 113 iters | converged    | loss 0.117\n",
      "finished LBFGS run  2/16 after    1.7 sec | 179 iters | NOT converged | loss 0.029\n",
      "finished LBFGS run  3/16 after    1.0 sec | 110 iters | converged    | loss 0.075\n",
      "finished LBFGS run  4/16 after    1.7 sec | 176 iters | NOT converged | loss 0.016\n",
      "finished LBFGS run  5/16 after    1.7 sec | 144 iters | NOT converged | loss 0.012\n",
      "finished LBFGS run  6/16 after    1.1 sec |  87 iters | converged    | loss 0.079\n",
      "finished LBFGS run  7/16 after    1.8 sec | 183 iters | NOT converged | loss 0.025\n",
      "finished LBFGS run  8/16 after    1.8 sec | 182 iters | NOT converged | loss 0.016\n",
      "finished LBFGS run  9/16 after    1.4 sec | 128 iters | converged    | loss 0.019\n",
      "finished LBFGS run 10/16 after    1.8 sec | 186 iters | NOT converged | loss 0.015\n",
      "finished LBFGS run 11/16 after    0.2 sec |  10 iters | converged    | loss 0.647\n",
      "finished LBFGS run 12/16 after    1.9 sec | 179 iters | NOT converged | loss 0.016\n",
      "finished LBFGS run 13/16 after    1.8 sec | 175 iters | NOT converged | loss 0.016\n",
      "finished LBFGS run 14/16 after    1.3 sec | 130 iters | converged    | loss 0.038\n",
      "finished LBFGS run 15/16 after    1.8 sec | 168 iters | NOT converged | loss 0.017\n"
     ]
    }
   ],
   "source": [
    "n_runs = 16\n",
    "result_relu = []\n",
    "def MLP_runs(state):\n",
    "    start_time_sec = time.time()\n",
    "    mlp_lbfgs = MLPClassifierLBFGS(\n",
    "        hidden_layer_sizes=[2],\n",
    "        activation='relu',\n",
    "        alpha=0.0001,\n",
    "        max_iter=200, tol=1e-6,\n",
    "        random_state=state,)\n",
    "    with warnings.catch_warnings(record=True) as warn_list:\n",
    "        mlp_lbfgs.fit(x_tr, y_tr)\n",
    "        elapsed_time_sec = time.time() - start_time_sec\n",
    "        print('finished LBFGS run %2d/%d after %6.1f sec | %3d iters | %s | loss %.3f' % (\n",
    "            state, n_runs, elapsed_time_sec,len(mlp_lbfgs.loss_curve_),\n",
    "            'converged   ' if mlp_lbfgs.did_converge else 'NOT converged',\n",
    "            mlp_lbfgs.loss_))\n",
    "    return mlp_lbfgs\n",
    "\n",
    "for i in range(0, n_runs):\n",
    "        result_relu.append(MLP_runs(i))"
   ]
  },
  {
   "cell_type": "code",
   "execution_count": null,
   "metadata": {},
   "outputs": [],
   "source": []
  },
  {
   "cell_type": "code",
   "execution_count": null,
   "metadata": {},
   "outputs": [],
   "source": []
  },
  {
   "cell_type": "code",
   "execution_count": null,
   "metadata": {},
   "outputs": [],
   "source": []
  },
  {
   "cell_type": "markdown",
   "metadata": {},
   "source": [
    "### Generate SVM model"
   ]
  },
  {
   "cell_type": "code",
   "execution_count": 94,
   "metadata": {},
   "outputs": [
    {
     "data": {
      "text/plain": [
       "(600,)"
      ]
     },
     "execution_count": 94,
     "metadata": {},
     "output_type": "execute_result"
    }
   ],
   "source": [
    "from sklearn import svm\n",
    "\n",
    "clf = svm.SVC(gamma='scale')\n",
    "clf.fit(x_tr, y_tr)\n",
    "ypred = clf.predict(x_te)\n",
    "\n",
    "ypred.shape"
   ]
  },
  {
   "cell_type": "code",
   "execution_count": 93,
   "metadata": {},
   "outputs": [
    {
     "data": {
      "text/plain": [
       "array([1, 0, 0, 0, 0, 0, 0, 1, 0, 0, 0, 1, 0, 0, 1, 0, 0, 0, 0, 0, 0, 0,\n",
       "       0, 0, 0, 0, 0, 0, 0, 0, 0, 0, 1, 0, 0, 1, 0, 0, 0, 1, 0, 0, 0, 1,\n",
       "       0, 0, 1, 0, 0, 0, 0, 0, 1, 0, 0, 0, 0, 0, 0, 0, 0, 1, 0, 0, 0, 0,\n",
       "       0, 0, 0, 0, 0, 0, 0, 0, 1, 0, 0, 0, 0, 0, 0, 0, 0, 0, 0, 0, 0, 0,\n",
       "       0, 0, 0, 1, 0, 0, 1, 0, 0, 0, 0, 0, 0, 0, 0, 1, 0, 0, 0, 0, 0, 0,\n",
       "       0, 0, 0, 0, 1, 0, 0, 0, 0, 0, 0, 1, 0, 0, 0, 0, 0, 0, 0, 0, 0, 1,\n",
       "       0, 0, 0, 0, 0, 0, 0, 1, 0, 0, 0, 0, 0, 0, 0, 0, 0, 0, 0, 0, 0, 0,\n",
       "       0, 0, 0, 0, 0, 0, 0, 0, 0, 0, 0, 0, 0, 0, 0, 1, 0, 0, 0, 0, 0, 1,\n",
       "       0, 0, 0, 0, 0, 0, 0, 0, 0, 0, 0, 0, 0, 0, 0, 0, 0, 1, 0, 0, 0, 0,\n",
       "       0, 0, 0, 0, 0, 0, 0, 0, 1, 0, 0, 0, 0, 0, 0, 1, 0, 0, 0, 0, 0, 1,\n",
       "       0, 0, 0, 0, 0, 1, 0, 0, 0, 0, 0, 0, 0, 0, 0, 0, 0, 0, 0, 0, 0, 0,\n",
       "       0, 0, 0, 0, 0, 0, 0, 1, 0, 0, 0, 0, 1, 0, 0, 1, 1, 0, 0, 1, 1, 1,\n",
       "       0, 1, 0, 0, 0, 0, 0, 0, 0, 0, 0, 0, 0, 0, 0, 0, 0, 0, 0, 0, 0, 0,\n",
       "       0, 0, 0, 0, 0, 0, 0, 0, 0, 0, 0, 0, 0, 0, 0, 0, 0, 0, 0, 1, 0, 0,\n",
       "       1, 0, 0, 0, 0, 0, 0, 0, 0, 0, 1, 0, 0, 0, 1, 0, 0, 1, 0, 0, 0, 0,\n",
       "       0, 0, 1, 0, 0, 0, 0, 1, 0, 0, 0, 0, 0, 0, 1, 1, 0, 1, 0, 0, 0, 0,\n",
       "       0, 0, 0, 0, 0, 0, 0, 0, 0, 0, 0, 0, 0, 0, 0, 0, 0, 0, 0, 0, 1, 0,\n",
       "       0, 0, 0, 0, 0, 0, 0, 0, 0, 0, 0, 0, 0, 0, 0, 0, 0, 0, 0, 0, 0, 0,\n",
       "       0, 0, 0, 1, 0, 0, 0, 0, 0, 0, 1, 0, 0, 0, 1, 0, 0, 0, 0, 0, 0, 0,\n",
       "       0, 0, 0, 0, 0, 0, 0, 0, 0, 0, 0, 0, 0, 0, 0, 0, 0, 1, 0, 0, 0, 0,\n",
       "       0, 0, 0, 0, 0, 0, 0, 0, 0, 1, 1, 0, 0, 0, 0, 0, 0, 0, 0, 1, 0, 0,\n",
       "       0, 0, 0, 0, 0, 0, 0, 0, 0, 0, 0, 0, 0, 0, 0, 0, 0, 0, 0, 0, 0, 0,\n",
       "       0, 0, 0, 0, 1, 1, 0, 0, 0, 1, 0, 0, 0, 0, 0, 0, 0, 0, 0, 0, 0, 0,\n",
       "       0, 0, 0, 0, 0, 0, 0, 0, 0, 0, 0, 0, 0, 0, 0, 0, 0, 1, 0, 0, 0, 0,\n",
       "       0, 0, 1, 0, 0, 0, 0, 0, 0, 0, 0, 0, 0, 1, 1, 0, 0, 0, 1, 0, 0, 0,\n",
       "       0, 0, 0, 0, 0, 1, 0, 0, 0, 0, 0, 0, 0, 0, 0, 0, 0, 0, 0, 0, 1, 0,\n",
       "       1, 0, 0, 0, 0, 1, 0, 0, 0, 0, 0, 0, 0, 0, 1, 0, 0, 0, 0, 0, 0, 0,\n",
       "       0, 1, 0, 0, 0, 1])"
      ]
     },
     "execution_count": 93,
     "metadata": {},
     "output_type": "execute_result"
    }
   ],
   "source": [
    "ypred"
   ]
  },
  {
   "cell_type": "code",
   "execution_count": null,
   "metadata": {},
   "outputs": [],
   "source": []
  }
 ],
 "metadata": {
  "kernelspec": {
   "display_name": "Python 3",
   "language": "python",
   "name": "python3"
  },
  "language_info": {
   "codemirror_mode": {
    "name": "ipython",
    "version": 3
   },
   "file_extension": ".py",
   "mimetype": "text/x-python",
   "name": "python",
   "nbconvert_exporter": "python",
   "pygments_lexer": "ipython3",
   "version": "3.7.5"
  }
 },
 "nbformat": 4,
 "nbformat_minor": 2
}
