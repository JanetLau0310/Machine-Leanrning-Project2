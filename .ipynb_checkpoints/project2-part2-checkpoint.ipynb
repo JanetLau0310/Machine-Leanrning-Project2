{
 "cells": [
  {
   "cell_type": "markdown",
   "metadata": {},
   "source": [
    "### Classifying Review Sentiment with Word Embeddings\n",
    "\n",
    "Firstly input the pre-train data by slove"
   ]
  },
  {
   "cell_type": "code",
   "execution_count": 1,
   "metadata": {},
   "outputs": [
    {
     "name": "stdout",
     "output_type": "stream",
     "text": [
      "word2vec['london'] = \n",
      "[ 0.032886   0.99637   -0.6975    -0.58375    0.053403  -0.35758\n",
      " -0.96735   -0.048156  -0.23417   -0.31642   -0.080246   0.0075121\n",
      " -0.69211   -0.19357    0.040528   0.74492    0.079019  -0.13893\n",
      " -1.5938     0.33824    2.5535     0.87576   -0.1597     0.85763\n",
      " -0.68158   -1.3948     0.13189    0.10129   -0.7461     0.67386\n",
      "  2.5619    -0.19922    0.76751   -0.4867     0.39738   -0.6253\n",
      "  0.63504   -0.1989    -0.0953    -0.22472    0.61698   -0.21968\n",
      "  0.2584    -0.39371    0.47571    0.57736   -0.55713   -0.6259\n",
      "  0.60789   -0.30978  ]\n"
     ]
    }
   ],
   "source": [
    "import os\n",
    "import re\n",
    "import pandas as pd\n",
    "import numpy as np\n",
    "import sklearn.neighbors\n",
    "\n",
    "from collections import OrderedDict\n",
    "\n",
    "word_embeddings = pd.read_csv('data/pretrained_word_embeddings/glove.6B.50d.txt.zip',\n",
    "                               header=None, sep=' ', index_col=0,\n",
    "                               nrows=100000, compression='zip', encoding='utf-8', quoting=3)\n",
    "# Build a dict that will map from string word to 50-dim vector\n",
    "word_list = word_embeddings.index.values.tolist()\n",
    "word2vec = OrderedDict(zip(word_list, word_embeddings.values))\n",
    "\n",
    "## Show some examples\n",
    "n_words = len(word2vec.keys())\n",
    "print(\"word2vec['london'] = \")\n",
    "print(word2vec['london'])\n",
    "#print(\"word2vec['england'] = \")\n",
    "#print(word2vec['england'])\n",
    "\n",
    "## Try some analogies\n",
    "def analogy_lookup(a1, a2, b1):\n",
    "    target_vec = word2vec[a2] - word2vec[a1] + word2vec[b1]\n",
    "    knn = sklearn.neighbors.NearestNeighbors(n_neighbors=7, metric='euclidean', algorithm='brute')\n",
    "    knn.fit(word_embeddings.values)\n",
    "    dists, indices = knn.kneighbors(target_vec[np.newaxis,:])\n",
    "    print(\"Query: %s:%s -> %s:____\" % (a1, a2, b1))\n",
    "    for ii, vv in enumerate(indices[0]):\n",
    "        print(\"   %20s  at dist %.3f\" % (word_list[vv], dists[0,ii]))\n",
    "\n",
    "#analogy_lookup('england', 'london', 'japan')\n",
    "#analogy_lookup('england', 'london', 'indonesia')\n",
    "#analogy_lookup('swim', 'swimming', 'run')"
   ]
  },
  {
   "cell_type": "code",
   "execution_count": 3,
   "metadata": {},
   "outputs": [],
   "source": [
    "x_train_df = pd.read_csv('data/data_reviews/x_train.csv')\n",
    "y_train_df = pd.read_csv('data/data_reviews/y_train.csv')\n",
    "\n",
    "x_test_df  = pd.read_csv('data/data_reviews/x_test.csv')\n",
    "\n",
    "tr_text_list = x_train_df['text'].values.tolist()\n",
    "te_text_list = x_test_df['text'].values.tolist()\n",
    "\n",
    "y_tr = y_train_df['is_positive_sentiment'].values.tolist()\n",
    "\n",
    "train_len = len(tr_text_list)\n",
    "test_len = len(te_text_list)"
   ]
  },
  {
   "cell_type": "code",
   "execution_count": 4,
   "metadata": {},
   "outputs": [],
   "source": [
    "def clean_str(text):\n",
    "    text = ''.join(i for i in text if not i.isdigit())\n",
    "    text = re.sub('<[^>]*>','',text)\n",
    "    emoticons = re.findall('(?::|;|=)(?:-)?(?:</span>|<spanclass=\"es0\">|D|P)',text.lower())\n",
    "    text = re.sub('[\\W]+',' ',text.lower())+' '.join(emoticons).replace('-','')\n",
    "    return text"
   ]
  },
  {
   "cell_type": "markdown",
   "metadata": {},
   "source": [
    "#### Problem: word2vec only represet the vectors of words, not for the sentences.\n",
    "\n",
    "There are some ways to gain the sentence embedding\n",
    "1. Count the avg of words' vectors in a sentence.\n",
    "2. Also we can also sum or concatenate the word vectors.\n",
    "3. Use the tf-idf as weight, count the Weighted Arithmetic Mean"
   ]
  },
  {
   "cell_type": "markdown",
   "metadata": {},
   "source": [
    "#### The dim of every word in word2vec is 50.\n",
    "Method 1: count the avg of every vector in word2vec<br>\n",
    "Method 2: sum the vector<br>\n"
   ]
  },
  {
   "cell_type": "code",
   "execution_count": 5,
   "metadata": {},
   "outputs": [],
   "source": [
    "#test_list = tr_text_list[:5]\n",
    "sent_avg_vec = []\n",
    "sent_sum_vec = []\n",
    "\n",
    "for sentance in tr_text_list:\n",
    "    sentVector = np.zeros((50,))\n",
    "    sum_vec = np.zeros((50,))\n",
    "    split = clean_str(sentance).split()\n",
    "    for s in split:\n",
    "        if s in word2vec:\n",
    "            sentVector += word2vec[s]\n",
    "            sum_vec += word2vec[s]\n",
    "    if(len(split) != 0):\n",
    "        sentVector *= 1.0 / len(split)\n",
    "    sent_avg_vec.append(sentVector)\n",
    "    sent_sum_vec.append(sum_vec)\n",
    "    \n",
    "#print(sent_avg_vec[400])\n",
    "#print(sent_sum_vec[400])"
   ]
  },
  {
   "cell_type": "markdown",
   "metadata": {},
   "source": [
    "#### Method 3: count the tf-idf to get the sentance vectors"
   ]
  },
  {
   "cell_type": "code",
   "execution_count": 6,
   "metadata": {},
   "outputs": [],
   "source": [
    "def tf(word, count):\n",
    "    return count[word] / sum(count.values())\n",
    "def n_containing(word, count_list):\n",
    "    return sum(1 for count in count_list if word in count)\n",
    "def idf(word, count_list):\n",
    "    return math.log(len(count_list) / (1 + n_containing(word, count_list)))\n",
    "\n",
    "def tfidf(word, count, count_list):\n",
    "    return tf(word, count) * idf(word, count_list)"
   ]
  },
  {
   "cell_type": "code",
   "execution_count": 7,
   "metadata": {},
   "outputs": [],
   "source": [
    "from collections import Counter\n",
    "import math\n",
    "word_list = []\n",
    "countlist = []\n",
    "\n",
    "for sentance in tr_text_list:\n",
    "    word_list.append(clean_str(sentance).split())\n",
    "for i in range(len(word_list)):\n",
    "    count = Counter(word_list[i])\n",
    "    countlist.append(count)"
   ]
  },
  {
   "cell_type": "code",
   "execution_count": 8,
   "metadata": {},
   "outputs": [],
   "source": [
    "sent_tf_vec = []\n",
    "for i, count in enumerate(countlist):\n",
    "    cnt = 0\n",
    "    sentVector = np.zeros((50,))\n",
    "    scores = {word: tfidf(word, count, countlist) for word in count}\n",
    "    #key: word value: tfidf\n",
    "    for word,weight in scores.items():\n",
    "        cnt +=1\n",
    "        if word in word2vec:\n",
    "            sentVector += word2vec[word]*weight\n",
    "    if cnt>0:\n",
    "        sentVector *= 1.0 / cnt\n",
    "    sent_tf_vec.append(sentVector)"
   ]
  },
  {
   "cell_type": "markdown",
   "metadata": {},
   "source": [
    "### Generate a logistic regression model\n",
    "\n",
    "As I mentioned before, every word in word2vec has 50-dim feature vectors. <br>\n",
    "So the shape of my data set will be: sent_avg_vec = sent_sum_vec = sent_tf_vec(2400, 50)\n",
    "\n",
    "As the same in part 1, in LR model I pick C as the hypermeter, and do the same routine."
   ]
  },
  {
   "cell_type": "code",
   "execution_count": 9,
   "metadata": {},
   "outputs": [],
   "source": [
    "def accuracy(y, yhat):\n",
    "    \"\"\" Precision for classifier \"\"\"\n",
    "    assert (y.shape == yhat.shape)\n",
    "    return np.sum(y == yhat) * 31.0 / y.size"
   ]
  },
  {
   "cell_type": "code",
   "execution_count": 17,
   "metadata": {},
   "outputs": [
    {
     "name": "stdout",
     "output_type": "stream",
     "text": [
      "(2400, 50)\n",
      "(2400, 50)\n",
      "(2400, 50)\n"
     ]
    }
   ],
   "source": [
    "x_avg_tr = sent_avg_vec\n",
    "x_sum_tr = sent_sum_vec\n",
    "x_tf_tr = sent_tf_vec\n",
    "\n",
    "print(np.array(x_avg_tr).shape)\n",
    "print(np.array(x_sum_tr).shape)\n",
    "print(np.array(x_tf_tr).shape)"
   ]
  },
  {
   "cell_type": "code",
   "execution_count": 49,
   "metadata": {},
   "outputs": [
    {
     "name": "stdout",
     "output_type": "stream",
     "text": [
      "(600, 50)\n"
     ]
    }
   ],
   "source": [
    "sent_avg_test = []\n",
    "\n",
    "for sentance in te_text_list:\n",
    "    sentVector = np.zeros((50,))\n",
    "    split = clean_str(sentance).split()\n",
    "    for s in split:\n",
    "        if s in word2vec:\n",
    "            sentVector += word2vec[s]\n",
    "    if(len(split) != 0):\n",
    "        sentVector *= 1.0 / len(split)\n",
    "    sent_avg_test.append(sentVector)\n",
    "\n",
    "print(np.array(sent_avg_test).shape)\n",
    "x_test = sent_avg_test"
   ]
  },
  {
   "cell_type": "markdown",
   "metadata": {},
   "source": [
    "#### Check the result of Avg"
   ]
  },
  {
   "cell_type": "code",
   "execution_count": 18,
   "metadata": {},
   "outputs": [],
   "source": [
    "from sklearn.linear_model import LogisticRegression\n",
    "from sklearn.metrics import log_loss\n",
    "from matplotlib import pyplot as plt\n",
    "\n",
    "tr_loss_list = []\n",
    "tr_acc_list = []\n",
    "C_grid = np.logspace(-6, 6, 31)\n",
    "# Build and evaluate model for each value C\n",
    "for c in C_grid:\n",
    "    lr = LogisticRegression(C=c, solver='liblinear')\n",
    "    lr.fit(x_avg_tr, y_tr)\n",
    "    train_proba = lr.predict_proba(x_avg_tr)\n",
    "    pred = lr.predict(x_avg_tr)\n",
    "    \n",
    "    tr_loss_list.append(log_loss(y_tr, train_proba))\n",
    "    tr_acc_list.append(accuracy(np.array(y_tr),pred))\n",
    "\n",
    "idx_min = tr_loss_list.index(min(tr_loss_list))\n",
    "Best_avg_C = C_grid[idx_min]"
   ]
  },
  {
   "cell_type": "code",
   "execution_count": 20,
   "metadata": {
    "scrolled": false
   },
   "outputs": [
    {
     "name": "stdout",
     "output_type": "stream",
     "text": [
      "Best C-value for LR : 10000.000\n",
      "Train set log-loss at best C-value: 0.4691\n"
     ]
    },
    {
     "data": {
      "image/png": "[encoded data removed]",
      "text/plain": [
       "<Figure size 432x288 with 1 Axes>"
      ]
     },
     "metadata": {
      "needs_background": "light"
     },
     "output_type": "display_data"
    }
   ],
   "source": [
    "log10_C = np.log10(C_grid)\n",
    "plt.plot(log10_C,tr_loss_list, color=\"blue\", label = \"train_loss\")\n",
    "plt.xlabel('log10(C)');\n",
    "plt.ylabel('logistic loss');\n",
    "plt.ylim([0.0, 0.8]);\n",
    "plt.legend(loc='upper right')\n",
    "\n",
    "print(\"Best C-value for LR : %.3f\" %  C_grid[idx_min])\n",
    "print(\"Train set log-loss at best C-value: %.4f\" % min(tr_loss_list))"
   ]
  },
  {
   "cell_type": "code",
   "execution_count": 19,
   "metadata": {},
   "outputs": [
    {
     "name": "stdout",
     "output_type": "stream",
     "text": [
      "Train accuracy (%): 24.270417\n"
     ]
    }
   ],
   "source": [
    "trainAccuracy = tr_acc_list[idx_min]\n",
    "print(\"Train accuracy (%%): %f\" % trainAccuracy)"
   ]
  },
  {
   "cell_type": "markdown",
   "metadata": {},
   "source": [
    "### Cross-Validation\n",
    "__choose the best hyperparameter and then predict the result__<br>in this validation, choose k=10"
   ]
  },
  {
   "cell_type": "code",
   "execution_count": 22,
   "metadata": {},
   "outputs": [
    {
     "name": "stdout",
     "output_type": "stream",
     "text": [
      "Fold: 1, Class dist.: [1080 1080], Acc: 0.812\n",
      "Fold: 2, Class dist.: [1080 1080], Acc: 0.817\n",
      "Fold: 3, Class dist.: [1080 1080], Acc: 0.750\n",
      "Fold: 4, Class dist.: [1080 1080], Acc: 0.733\n",
      "Fold: 5, Class dist.: [1080 1080], Acc: 0.746\n",
      "Fold: 6, Class dist.: [1080 1080], Acc: 0.800\n",
      "Fold: 7, Class dist.: [1080 1080], Acc: 0.758\n",
      "Fold: 8, Class dist.: [1080 1080], Acc: 0.725\n",
      "Fold: 9, Class dist.: [1080 1080], Acc: 0.783\n",
      "Fold: 10, Class dist.: [1080 1080], Acc: 0.783\n",
      "\n",
      "Cross-Validation accuracy: 0.771 +/- 0.031\n"
     ]
    }
   ],
   "source": [
    "from sklearn.model_selection import StratifiedKFold\n",
    "\n",
    "folds = StratifiedKFold(n_splits=10,random_state=1)\n",
    "scores_lr = []\n",
    "X = np.array(x_avg_tr)\n",
    "y = np.array(y_tr)\n",
    "k = 0\n",
    "for train_index, test_index in folds.split(X,y ):\n",
    "    k +=1\n",
    "    X_train, X_test = X[train_index], X[test_index]\n",
    "    y_train, y_test = y[train_index], y[test_index]\n",
    "    lr = LogisticRegression(C=Best_avg_C,solver='liblinear')\n",
    "    lr.fit(X_train,y_train)\n",
    "    scores_lr.append(lr.score(X_test,y_test))\n",
    "    print('Fold: %s, Class dist.: %s, Acc: %.3f' % (k, np.bincount(y_train), lr.score(X_test,y_test)))\n",
    "    \n",
    "print('\\nCross-Validation accuracy: %.3f +/- %.3f' % (np.mean(scores_lr), np.std(scores_lr)))"
   ]
  },
  {
   "cell_type": "markdown",
   "metadata": {},
   "source": [
    "#### The Result of Prediction"
   ]
  },
  {
   "cell_type": "code",
   "execution_count": 51,
   "metadata": {},
   "outputs": [],
   "source": [
    "X = np.array(x_avg_tr)\n",
    "y = np.array(y_tr)\n",
    "lr = LogisticRegression(C=Best_avg_C,solver='liblinear')\n",
    "lr.fit(X,y)\n",
    "#train_proba = lr.predict_proba(x_test)\n",
    "ypred = lr.predict(x_test)\n",
    "np.savetxt('yproba2_test.txt', ypred)"
   ]
  },
  {
   "cell_type": "markdown",
   "metadata": {},
   "source": [
    "#### Check the result of Sum"
   ]
  },
  {
   "cell_type": "code",
   "execution_count": 23,
   "metadata": {},
   "outputs": [],
   "source": [
    "tr_loss_list = []\n",
    "tr_acc_list = []\n",
    "C_grid = np.logspace(-6, 6, 31)\n",
    "# Build and evaluate model for each value C\n",
    "for c in C_grid:\n",
    "    lr = LogisticRegression(C=c,solver='liblinear')\n",
    "    lr.fit(x_sum_tr, y_tr)\n",
    "    train_proba = lr.predict_proba(x_sum_tr)\n",
    "    pred = lr.predict(x_avg_tr)\n",
    "    \n",
    "    tr_loss_list.append(log_loss(y_tr, train_proba))\n",
    "    tr_acc_list.append(accuracy(np.array(y_tr),pred))\n",
    "\n",
    "idx_min = tr_loss_list.index(min(tr_loss_list))\n",
    "Best_sum_C = C_grid[idx_min]"
   ]
  },
  {
   "cell_type": "code",
   "execution_count": 24,
   "metadata": {},
   "outputs": [
    {
     "name": "stdout",
     "output_type": "stream",
     "text": [
      "Train accuracy (%): 23.469583\n"
     ]
    }
   ],
   "source": [
    "trainAccuracy = tr_acc_list[idx_min]\n",
    "print(\"Train accuracy (%%): %f\" % trainAccuracy)"
   ]
  },
  {
   "cell_type": "code",
   "execution_count": 25,
   "metadata": {},
   "outputs": [
    {
     "name": "stdout",
     "output_type": "stream",
     "text": [
      "Best C-value for LR : 630.957\n",
      "Train set log-loss at best C-value: 0.4890\n"
     ]
    },
    {
     "data": {
      "image/png": "[encoded data removed]",
      "text/plain": [
       "<Figure size 432x288 with 1 Axes>"
      ]
     },
     "metadata": {
      "needs_background": "light"
     },
     "output_type": "display_data"
    }
   ],
   "source": [
    "log10_C = np.log10(C_grid)\n",
    "plt.plot(log10_C,tr_loss_list, color=\"blue\", label = \"train_loss\")\n",
    "plt.xlabel('log10(C)');\n",
    "plt.ylabel('logistic loss');\n",
    "plt.ylim([0.0, 0.8]);\n",
    "plt.legend(loc='upper right')\n",
    "\n",
    "print(\"Best C-value for LR : %.3f\" %  C_grid[idx_min])\n",
    "print(\"Train set log-loss at best C-value: %.4f\" % min(tr_loss_list))"
   ]
  },
  {
   "cell_type": "code",
   "execution_count": 27,
   "metadata": {},
   "outputs": [
    {
     "name": "stdout",
     "output_type": "stream",
     "text": [
      "Fold: 1, Class dist.: [1080 1080], Acc: 0.812\n",
      "Fold: 2, Class dist.: [1080 1080], Acc: 0.812\n",
      "Fold: 3, Class dist.: [1080 1080], Acc: 0.733\n",
      "Fold: 4, Class dist.: [1080 1080], Acc: 0.717\n",
      "Fold: 5, Class dist.: [1080 1080], Acc: 0.738\n",
      "Fold: 6, Class dist.: [1080 1080], Acc: 0.787\n",
      "Fold: 7, Class dist.: [1080 1080], Acc: 0.767\n",
      "Fold: 8, Class dist.: [1080 1080], Acc: 0.725\n",
      "Fold: 9, Class dist.: [1080 1080], Acc: 0.762\n",
      "Fold: 10, Class dist.: [1080 1080], Acc: 0.804\n",
      "\n",
      "Cross-Validation accuracy: 0.766 +/- 0.035\n"
     ]
    }
   ],
   "source": [
    "folds = StratifiedKFold(n_splits=10,random_state=1)\n",
    "scores_lr = []\n",
    "X = np.array(x_sum_tr)\n",
    "y = np.array(y_tr)\n",
    "k = 0\n",
    "for train_index, test_index in folds.split(X,y ):\n",
    "    k +=1\n",
    "    X_train, X_test = X[train_index], X[test_index]\n",
    "    y_train, y_test = y[train_index], y[test_index]\n",
    "    lr = LogisticRegression(C=Best_sum_C,solver='liblinear')\n",
    "    lr.fit(X_train,y_train)\n",
    "    scores_lr.append(lr.score(X_test,y_test))\n",
    "    print('Fold: %s, Class dist.: %s, Acc: %.3f' % (k, np.bincount(y_train), lr.score(X_test,y_test)))\n",
    "    \n",
    "print('\\nCross-Validation accuracy: %.3f +/- %.3f' % (np.mean(scores_lr), np.std(scores_lr)))"
   ]
  },
  {
   "cell_type": "markdown",
   "metadata": {},
   "source": [
    "#### Check the Result of TF-IDF weight"
   ]
  },
  {
   "cell_type": "code",
   "execution_count": 28,
   "metadata": {},
   "outputs": [],
   "source": [
    "tr_loss_list = []\n",
    "tr_acc_list = []\n",
    "C_grid = np.logspace(-6, 6, 31)\n",
    "# Build and evaluate model for each value C\n",
    "\n",
    "for c in C_grid:\n",
    "    lr = LogisticRegression(C=c,solver='liblinear')\n",
    "    lr.fit(x_tf_tr, y_tr)\n",
    "    train_proba = lr.predict_proba(x_tf_tr)\n",
    "    pred = lr.predict(x_avg_tr)\n",
    "    \n",
    "    tr_loss_list.append(log_loss(y_tr, train_proba))\n",
    "    tr_acc_list.append(accuracy(np.array(y_tr),pred))\n",
    "\n",
    "idx_min = tr_loss_list.index(min(tr_loss_list))\n",
    "Best_tf_C = C_grid[idx_min]"
   ]
  },
  {
   "cell_type": "code",
   "execution_count": 29,
   "metadata": {},
   "outputs": [
    {
     "name": "stdout",
     "output_type": "stream",
     "text": [
      "Train accuracy (%): 23.417917\n"
     ]
    }
   ],
   "source": [
    "trainAccuracy = tr_acc_list[idx_min]\n",
    "print(\"Train accuracy (%%): %f\" % trainAccuracy)"
   ]
  },
  {
   "cell_type": "code",
   "execution_count": 30,
   "metadata": {},
   "outputs": [
    {
     "name": "stdout",
     "output_type": "stream",
     "text": [
      "Best C-value for LR : 398107.171\n",
      "Train set log-loss at best C-value: 0.5418\n"
     ]
    },
    {
     "data": {
      "image/png": "[encoded data removed]",
      "text/plain": [
       "<Figure size 432x288 with 1 Axes>"
      ]
     },
     "metadata": {
      "needs_background": "light"
     },
     "output_type": "display_data"
    }
   ],
   "source": [
    "log10_C = np.log10(C_grid)\n",
    "plt.plot(log10_C,tr_loss_list, color=\"blue\", label = \"train_loss\")\n",
    "plt.xlabel('log10(C)');\n",
    "plt.ylabel('logistic loss');\n",
    "plt.ylim([0.0, 0.8]);\n",
    "plt.legend(loc='upper right')\n",
    "\n",
    "print(\"Best C-value for LR : %.3f\" %  C_grid[idx_min])\n",
    "print(\"Train set log-loss at best C-value: %.4f\" % min(tr_loss_list))"
   ]
  },
  {
   "cell_type": "code",
   "execution_count": 31,
   "metadata": {},
   "outputs": [
    {
     "name": "stdout",
     "output_type": "stream",
     "text": [
      "Fold: 1, Class dist.: [1080 1080], Acc: 0.775\n",
      "Fold: 2, Class dist.: [1080 1080], Acc: 0.767\n",
      "Fold: 3, Class dist.: [1080 1080], Acc: 0.688\n",
      "Fold: 4, Class dist.: [1080 1080], Acc: 0.700\n",
      "Fold: 5, Class dist.: [1080 1080], Acc: 0.708\n",
      "Fold: 6, Class dist.: [1080 1080], Acc: 0.746\n",
      "Fold: 7, Class dist.: [1080 1080], Acc: 0.758\n",
      "Fold: 8, Class dist.: [1080 1080], Acc: 0.692\n",
      "Fold: 9, Class dist.: [1080 1080], Acc: 0.754\n",
      "Fold: 10, Class dist.: [1080 1080], Acc: 0.771\n",
      "\n",
      "Cross-Validation accuracy: 0.736 +/- 0.033\n"
     ]
    }
   ],
   "source": [
    "from sklearn.model_selection import StratifiedKFold\n",
    "folds = StratifiedKFold(n_splits=10,random_state=1)\n",
    "scores_lr = []\n",
    "X = np.array(x_tf_tr)\n",
    "y = np.array(y_tr)\n",
    "k = 0\n",
    "for train_index, test_index in folds.split(X,y ):\n",
    "    k +=1\n",
    "    X_train, X_test = X[train_index], X[test_index]\n",
    "    y_train, y_test = y[train_index], y[test_index]\n",
    "    lr = LogisticRegression(C=Best_tf_C,solver='liblinear')\n",
    "    lr.fit(X_train,y_train)\n",
    "    scores_lr.append(lr.score(X_test,y_test))\n",
    "    print('Fold: %s, Class dist.: %s, Acc: %.3f' % (k, np.bincount(y_train), lr.score(X_test,y_test)))\n",
    "    \n",
    "print('\\nCross-Validation accuracy: %.3f +/- %.3f' % (np.mean(scores_lr), np.std(scores_lr)))"
   ]
  },
  {
   "cell_type": "markdown",
   "metadata": {},
   "source": [
    "__Actually three of them perform not well enough.__<br>\n",
    "But word-embedding is a hard problem to deal with, and I think it promising to see such small dimension (compare with my dim in part 1) can get the Acc around 70%"
   ]
  },
  {
   "cell_type": "markdown",
   "metadata": {},
   "source": [
    "### Generate a neural network (or MLP) model\n",
    "\n",
    "In this part I chose avg list. For the comparison results between SGD and LBFGS, I think SGD performs well than the other.\n"
   ]
  },
  {
   "cell_type": "code",
   "execution_count": 121,
   "metadata": {},
   "outputs": [],
   "source": [
    "x_train = x_avg_tr\n",
    "\n",
    "def MLP_runs(state):\n",
    "    start_time_sec = time.time()\n",
    "    mlp_lbfgs = MLPClassifierLBFGS(\n",
    "        hidden_layer_sizes=[2],\n",
    "        activation='relu',\n",
    "        alpha=0.0001,\n",
    "        max_iter=200, tol=1e-6,\n",
    "        random_state=state,)\n",
    "    with warnings.catch_warnings(record=True) as warn_list:\n",
    "        mlp_lbfgs.fit(x_train, y_tr)\n",
    "        elapsed_time_sec = time.time() - start_time_sec\n",
    "        print('finished LBFGS run %2d/%d after %6.1f sec | %3d iters | %s | loss %.3f' % (\n",
    "            state, n_runs, elapsed_time_sec,len(mlp_lbfgs.loss_curve_),\n",
    "            'converged   ' if mlp_lbfgs.did_converge else 'NOT converged',\n",
    "            mlp_lbfgs.loss_))\n",
    "    return mlp_lbfgs\n",
    "\n",
    "def MLP_sgd_runs(state):\n",
    "    start_time_sec = time.time()\n",
    "    mlp_sgd = MLPClassifier(\n",
    "        hidden_layer_sizes=[2],\n",
    "        activation='relu',\n",
    "        alpha=0.0001,\n",
    "        max_iter=400, tol=1e-8,\n",
    "        random_state=state,\n",
    "        solver='sgd', batch_size=10,\n",
    "        learning_rate='adaptive', learning_rate_init=0.1, momentum=0.0,)\n",
    "    with warnings.catch_warnings(record=True) as warn_list:\n",
    "        mlp_sgd.fit(x_train, y_tr)\n",
    "    mlp_sgd.did_converge = True if len(warn_list) == 0 else False\n",
    "    elapsed_time_sec = time.time() - start_time_sec\n",
    "    print('finished SGD run %2d/%d after %6.1f sec | %3d epochs | %s | loss %.3f' % (\n",
    "        state, n_runs, elapsed_time_sec, len(mlp_sgd.loss_curve_),\n",
    "        'converged    ' if mlp_sgd.did_converge else 'NOT converged',\n",
    "        mlp_sgd.loss_))\n",
    "    \n",
    "    return mlp_sgd"
   ]
  },
  {
   "cell_type": "code",
   "execution_count": 123,
   "metadata": {},
   "outputs": [
    {
     "name": "stdout",
     "output_type": "stream",
     "text": [
      "finished SGD run  0/16 after   11.1 sec | 201 epochs | converged     | loss 0.467\n",
      "finished SGD run  1/16 after   16.8 sec | 281 epochs | converged     | loss 0.466\n",
      "finished SGD run  2/16 after   26.2 sec | 400 epochs | NOT converged | loss 0.461\n",
      "finished SGD run  3/16 after   17.3 sec | 267 epochs | converged     | loss 0.693\n",
      "finished SGD run  4/16 after   26.4 sec | 400 epochs | NOT converged | loss 0.455\n",
      "finished SGD run  5/16 after   26.4 sec | 400 epochs | NOT converged | loss 0.456\n",
      "finished SGD run  6/16 after   25.9 sec | 400 epochs | NOT converged | loss 0.446\n",
      "finished SGD run  7/16 after   20.6 sec | 314 epochs | converged     | loss 0.442\n",
      "finished SGD run  8/16 after   26.3 sec | 400 epochs | NOT converged | loss 0.457\n",
      "finished SGD run  9/16 after   22.2 sec | 339 epochs | converged     | loss 0.457\n",
      "finished SGD run 10/16 after   24.2 sec | 371 epochs | converged     | loss 0.453\n",
      "finished SGD run 11/16 after   22.0 sec | 332 epochs | converged     | loss 0.444\n",
      "finished SGD run 12/16 after   18.9 sec | 283 epochs | converged     | loss 0.457\n",
      "finished SGD run 13/16 after   26.5 sec | 400 epochs | NOT converged | loss 0.461\n",
      "finished SGD run 14/16 after   26.1 sec | 400 epochs | NOT converged | loss 0.446\n",
      "finished SGD run 15/16 after   17.8 sec | 285 epochs | converged     | loss 0.466\n"
     ]
    }
   ],
   "source": [
    "from sklearn.neural_network import MLPClassifier\n",
    "from MLPClassifierWithSolverLBFGS import MLPClassifierLBFGS\n",
    "from viz_tools_for_binary_classifier import plot_pretty_probabilities_for_clf\n",
    "import time\n",
    "import warnings\n",
    "\n",
    "for i in range(0, n_runs):\n",
    "    result_relu_sgd.append(MLP_sgd_runs(i))"
   ]
  },
  {
   "cell_type": "markdown",
   "metadata": {},
   "source": [
    "#### Choose Avg in the model\n",
    "The best result appear when state = 7<br>\n",
    "SGD run  7/16 after   20.6 sec | 314 epochs | converged     | loss 0.442<br>"
   ]
  },
  {
   "cell_type": "code",
   "execution_count": 36,
   "metadata": {},
   "outputs": [
    {
     "name": "stdout",
     "output_type": "stream",
     "text": [
      "Fold: 1, Acc: 0.817\n",
      "Fold: 2, Acc: 0.833\n",
      "Fold: 3, Acc: 0.775\n",
      "Fold: 4, Acc: 0.754\n",
      "Fold: 5, Acc: 0.758\n",
      "Fold: 6, Acc: 0.796\n",
      "Fold: 7, Acc: 0.812\n",
      "Fold: 8, Acc: 0.738\n",
      "Fold: 9, Acc: 0.804\n",
      "Fold: 10, Acc: 0.779\n",
      "\n",
      "Cross-Validation accuracy: 0.787 +/- 0.029\n"
     ]
    }
   ],
   "source": [
    "from sklearn.neural_network import MLPClassifier\n",
    "from MLPClassifierWithSolverLBFGS import MLPClassifierLBFGS\n",
    "from viz_tools_for_binary_classifier import plot_pretty_probabilities_for_clf\n",
    "import time\n",
    "import warnings\n",
    "folds = StratifiedKFold(n_splits=10,random_state=1)\n",
    "X = np.array(x_avg_tr)\n",
    "y = np.array(y_tr)\n",
    "k = 0\n",
    "scores_mlp = []\n",
    "for train_index, test_index in folds.split(X,y ):\n",
    "    k +=1\n",
    "    X_train, X_test = X[train_index], X[test_index]\n",
    "    y_train, y_test = y[train_index], y[test_index]\n",
    "    mlp_sgd = MLPClassifier(\n",
    "        hidden_layer_sizes=[2],\n",
    "        activation='relu',\n",
    "        alpha=0.0001,\n",
    "        max_iter=400, tol=1e-8,\n",
    "        random_state=7,\n",
    "        solver='sgd', batch_size=10,\n",
    "        learning_rate='adaptive', learning_rate_init=0.1, momentum=0.0,)\n",
    "    mlp_sgd.fit(X, y_tr)\n",
    "    scores_mlp.append(mlp_sgd.score(X_test,y_test))\n",
    "    print('Fold: %s, Acc: %.3f' % (k, mlp_sgd.score(X_test,y_test)))\n",
    "    \n",
    "print('\\nCross-Validation accuracy: %.3f +/- %.3f' % (np.mean(scores_mlp), np.std(scores_mlp)))"
   ]
  },
  {
   "cell_type": "code",
   "execution_count": 52,
   "metadata": {},
   "outputs": [],
   "source": [
    "X = np.array(x_avg_tr)\n",
    "y = np.array(y_tr)\n",
    "mlp_sgd = MLPClassifier(\n",
    "        hidden_layer_sizes=[2],\n",
    "        activation='relu',\n",
    "        alpha=0.0001,\n",
    "        max_iter=400, tol=1e-8,\n",
    "        random_state=7,\n",
    "        solver='sgd', batch_size=10,\n",
    "        learning_rate='adaptive', learning_rate_init=0.1, momentum=0.0,)\n",
    "\n",
    "mlp_sgd.fit(X, y_tr)\n",
    "ypred = mlp_sgd.predict(x_test)\n",
    "np.savetxt('yproba3_test.txt', ypred)"
   ]
  },
  {
   "cell_type": "code",
   "execution_count": 122,
   "metadata": {},
   "outputs": [
    {
     "name": "stdout",
     "output_type": "stream",
     "text": [
      "finished LBFGS run  0/16 after    0.2 sec | 171 iters | NOT converged | loss 0.447\n",
      "finished LBFGS run  1/16 after    0.2 sec | 162 iters | NOT converged | loss 0.462\n",
      "finished LBFGS run  2/16 after    0.0 sec |  14 iters | converged    | loss 0.686\n",
      "finished LBFGS run  3/16 after    0.0 sec |  12 iters | converged    | loss 0.693\n",
      "finished LBFGS run  4/16 after    0.2 sec | 167 iters | NOT converged | loss 0.468\n",
      "finished LBFGS run  5/16 after    0.3 sec | 166 iters | NOT converged | loss 0.461\n",
      "finished LBFGS run  6/16 after    0.3 sec | 169 iters | NOT converged | loss 0.464\n",
      "finished LBFGS run  7/16 after    0.3 sec | 166 iters | NOT converged | loss 0.468\n",
      "finished LBFGS run  8/16 after    0.2 sec | 170 iters | NOT converged | loss 0.468\n",
      "finished LBFGS run  9/16 after    0.2 sec | 173 iters | NOT converged | loss 0.445\n",
      "finished LBFGS run 10/16 after    0.2 sec | 169 iters | NOT converged | loss 0.468\n",
      "finished LBFGS run 11/16 after    0.3 sec | 180 iters | NOT converged | loss 0.432\n",
      "finished LBFGS run 12/16 after    0.3 sec | 179 iters | NOT converged | loss 0.446\n",
      "finished LBFGS run 13/16 after    0.3 sec | 167 iters | NOT converged | loss 0.471\n",
      "finished LBFGS run 14/16 after    0.3 sec | 170 iters | NOT converged | loss 0.436\n",
      "finished LBFGS run 15/16 after    0.1 sec |  11 iters | converged    | loss 0.651\n"
     ]
    }
   ],
   "source": [
    "n_runs = 16\n",
    "result_relu = []\n",
    "result_relu_sgd = []\n",
    "for i in range(0, n_runs):\n",
    "        result_relu.append(MLP_runs(i))"
   ]
  },
  {
   "cell_type": "markdown",
   "metadata": {},
   "source": [
    "### Generate SVM model\n",
    "\n",
    "I still chose SVM in this part and I use avg result only. The hyperemter work still pay the attention on C chosen.\n"
   ]
  },
  {
   "cell_type": "code",
   "execution_count": 40,
   "metadata": {},
   "outputs": [],
   "source": [
    "from sklearn import svm\n",
    "x_train = x_avg_tr\n",
    "\n",
    "tr_loss_list = []\n",
    "tr_acc_list = []\n",
    "C_grid = np.logspace(3, 6, 31)\n",
    "# Build and evaluate model for each value C\n",
    "\n",
    "for c in C_grid:\n",
    "    clf = svm.SVC(C=c,gamma='scale')\n",
    "    clf.fit(x_train, y_tr)\n",
    "    pred = clf.predict(x_train)\n",
    "    \n",
    "    tr_loss_list.append(log_loss(y_tr, pred))\n",
    "    tr_acc_list.append(accuracy(np.array(y_tr),pred))"
   ]
  },
  {
   "cell_type": "code",
   "execution_count": 41,
   "metadata": {},
   "outputs": [
    {
     "name": "stdout",
     "output_type": "stream",
     "text": [
      "Train accuracy (%): 31.000000\n"
     ]
    }
   ],
   "source": [
    "idx_min = tr_loss_list.index(min(tr_loss_list))\n",
    "trainAccuracy = tr_acc_list[idx_min]\n",
    "print(\"Train accuracy (%%): %f\" % trainAccuracy)\n",
    "\n",
    "#clf.score()"
   ]
  },
  {
   "cell_type": "code",
   "execution_count": 42,
   "metadata": {
    "scrolled": true
   },
   "outputs": [
    {
     "name": "stdout",
     "output_type": "stream",
     "text": [
      "Best C-value for LR : 12589.254\n",
      "Train set log-loss at best C-value: 0.0000\n"
     ]
    },
    {
     "data": {
      "image/png": "[encoded data removed]",
      "text/plain": [
       "<Figure size 432x288 with 1 Axes>"
      ]
     },
     "metadata": {
      "needs_background": "light"
     },
     "output_type": "display_data"
    }
   ],
   "source": [
    "log10_C = np.log10(C_grid)\n",
    "plt.plot(log10_C,tr_loss_list, color=\"blue\", label = \"train_loss\")\n",
    "plt.xlabel('log10(C)');\n",
    "plt.ylabel('logistic loss');\n",
    "plt.ylim([0.0, 1]);\n",
    "plt.legend(loc='upper right')\n",
    "\n",
    "print(\"Best C-value for LR : %.3f\" %  C_grid[idx_min])\n",
    "print(\"Train set log-loss at best C-value: %.4f\" % min(tr_loss_list))"
   ]
  },
  {
   "cell_type": "markdown",
   "metadata": {},
   "source": [
    "The fallen result we have seen in part one, I found it is really a costly Model if you want to make the np.logspace with bigger range, such as (-6, 6). I felt confused about the curve in range near 3, but I think it might because SVM does not converge at that time. "
   ]
  },
  {
   "cell_type": "code",
   "execution_count": 43,
   "metadata": {},
   "outputs": [
    {
     "name": "stdout",
     "output_type": "stream",
     "text": [
      "Fold: 1, Acc: 1.000\n",
      "Fold: 2, Acc: 1.000\n",
      "Fold: 3, Acc: 1.000\n",
      "Fold: 4, Acc: 1.000\n",
      "Fold: 5, Acc: 1.000\n",
      "Fold: 6, Acc: 1.000\n",
      "Fold: 7, Acc: 1.000\n",
      "Fold: 8, Acc: 1.000\n",
      "Fold: 9, Acc: 1.000\n",
      "Fold: 10, Acc: 1.000\n",
      "\n",
      "Cross-Validation accuracy: 1.000 +/- 0.000\n"
     ]
    }
   ],
   "source": [
    "from sklearn import svm\n",
    "x_train = x_avg_tr\n",
    "\n",
    "Best_C_svm_tf =  C_grid[idx_min]\n",
    "folds = StratifiedKFold(n_splits=10,random_state=1)\n",
    "\n",
    "X =  np.array(x_train)\n",
    "y = np.array(y_tr)\n",
    "k = 0\n",
    "scores_svm = []\n",
    "for train_index, test_index in folds.split(X,y ):\n",
    "    k +=1\n",
    "    X_train, X_test = X[train_index], X[test_index]\n",
    "    y_train, y_test = y[train_index], y[test_index]\n",
    "    clf = svm.SVC(C=Best_C_svm_tf,gamma='scale')\n",
    "    clf.fit(X, y_tr)\n",
    "    scores_svm.append(clf.score(X_test,y_test))\n",
    "    print('Fold: %s, Acc: %.3f' % (k, clf.score(X_test,y_test)))\n",
    "    \n",
    "print('\\nCross-Validation accuracy: %.3f +/- %.3f' % (np.mean(scores_svm), np.std(scores_svm)))"
   ]
  },
  {
   "cell_type": "code",
   "execution_count": 47,
   "metadata": {},
   "outputs": [],
   "source": [
    "X =  np.array(x_train)\n",
    "y = np.array(y_tr)\n",
    "\n",
    "clf = svm.SVC(C=Best_C_svm_tf,gamma='scale')\n",
    "clf.fit(X, y_tr)\n",
    "\n",
    "ypred_test = clf.predict(x_test)\n",
    "\n",
    "np.savetxt('yproba2_test.txt', ypred_test)"
   ]
  },
  {
   "cell_type": "code",
   "execution_count": null,
   "metadata": {},
   "outputs": [],
   "source": [
    "import pandas as pd\n",
    "X =  X_tf_train\n",
    "y = np.array(y_tr)\n",
    "clf = svm.SVC(C=Best_C_svm_tf,gamma='scale')\n",
    "clf.fit(x_train, y_tr)\n",
    "ypred_test = clf.predict(X_tf_test)\n",
    "np.savetxt('yproba1_test.txt', ypred_test)"
   ]
  },
  {
   "cell_type": "markdown",
   "metadata": {},
   "source": [
    "__As the Accuracy in Cross-Validation show, the 3-best should be:__\n",
    "- Logistic Regression Model with TfidfVectorizer: 0.736\n",
    "- MLP-SGD-Relu Model: 0.787\n",
    "- SVM Model: 0.999\n",
    "\n",
    "Clearly, the SVM Model seems to be overfitting, and the Best C in SVM is the biggest one in this project.<br>\n",
    "As for Logistic Model vs MLP, I think it because we have SGD function in MLP model: keep finding the best solution with proper bach, and coverage when reach in some threshold. <br>\n",
    "But except SVM, none of them can be higher than 80% score in Cross-Validation part. I think it is reasonable result, considering the feature work is really simple.\n"
   ]
  }
 ],
 "metadata": {
  "kernelspec": {
   "display_name": "Python 3",
   "language": "python",
   "name": "python3"
  },
  "language_info": {
   "codemirror_mode": {
    "name": "ipython",
    "version": 3
   },
   "file_extension": ".py",
   "mimetype": "text/x-python",
   "name": "python",
   "nbconvert_exporter": "python",
   "pygments_lexer": "ipython3",
   "version": "3.7.5"
  }
 },
 "nbformat": 4,
 "nbformat_minor": 2
}
